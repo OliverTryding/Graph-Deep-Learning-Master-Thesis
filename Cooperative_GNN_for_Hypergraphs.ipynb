{
 "cells": [
  {
   "cell_type": "code",
   "execution_count": 40,
   "metadata": {},
   "outputs": [],
   "source": [
    "import numpy as np\n",
    "import matplotlib.pyplot as plt\n",
    "\n",
    "import torch\n",
    "import torch.nn as nn\n",
    "import torch.optim as optim\n",
    "import torch.nn.functional as F\n",
    "\n",
    "import networkx as nx\n",
    "\n",
    "import torch_geometric as tg\n",
    "from torch_geometric.utils import to_networkx\n",
    "from torch_geometric.utils import degree\n",
    "from torch_geometric.nn import GCNConv\n",
    "from torch_geometric.data import Data\n",
    "from torch_geometric.data import DataLoader\n",
    "from torch_geometric.datasets import Planetoid"
   ]
  },
  {
   "cell_type": "code",
   "execution_count": 41,
   "metadata": {},
   "outputs": [
    {
     "name": "stdout",
     "output_type": "stream",
     "text": [
      "cuda\n"
     ]
    }
   ],
   "source": [
    "device = torch.device('cuda' if torch.cuda.is_available() else 'cpu')\n",
    "print(device)"
   ]
  },
  {
   "cell_type": "markdown",
   "metadata": {},
   "source": [
    "# Datasets"
   ]
  },
  {
   "cell_type": "markdown",
   "metadata": {},
   "source": [
    "## Cora"
   ]
  },
  {
   "cell_type": "code",
   "execution_count": 42,
   "metadata": {},
   "outputs": [
    {
     "name": "stdout",
     "output_type": "stream",
     "text": [
      "Data(x=[2708, 1433], edge_index=[2, 10556], y=[2708], train_mask=[2708], val_mask=[2708], test_mask=[2708])\n"
     ]
    }
   ],
   "source": [
    "cora_dataset = Planetoid(root='./data', name='Cora')\n",
    "\n",
    "data = cora_dataset[0]\n",
    "\n",
    "print(data)"
   ]
  },
  {
   "cell_type": "code",
   "execution_count": 43,
   "metadata": {},
   "outputs": [
    {
     "name": "stdout",
     "output_type": "stream",
     "text": [
      "No. of nodes: 2708\n",
      "No. of edges: 10556\n",
      "No. of features: 1433\n",
      "No. of classes: 7\n",
      "No. of nodes in training set: 140\n",
      "No. of nodes in validation set: 500\n",
      "No. of nodes in test set: 1000\n"
     ]
    }
   ],
   "source": [
    "num_nodes = data.num_nodes\n",
    "print(f\"No. of nodes: {num_nodes}\")\n",
    "\n",
    "num_edges = data.num_edges\n",
    "print(f\"No. of edges: {num_edges}\")\n",
    "\n",
    "num_features = data.num_features\n",
    "print(f\"No. of features: {num_features}\")\n",
    "\n",
    "num_classes = len(set(data.y.numpy()))\n",
    "print(f\"No. of classes: {num_classes}\")\n",
    "\n",
    "train_mask = data.train_mask\n",
    "print(f\"No. of nodes in training set: {train_mask.sum().item()}\")\n",
    "\n",
    "val_mask = data.val_mask\n",
    "print(f\"No. of nodes in validation set: {val_mask.sum().item()}\")\n",
    "\n",
    "test_mask = data.test_mask\n",
    "print(f\"No. of nodes in test set: {test_mask.sum().item()}\")"
   ]
  },
  {
   "cell_type": "code",
   "execution_count": 46,
   "metadata": {},
   "outputs": [
    {
     "ename": "TypeError",
     "evalue": "unhashable type: 'numpy.ndarray'",
     "output_type": "error",
     "traceback": [
      "\u001b[1;31m---------------------------------------------------------------------------\u001b[0m",
      "\u001b[1;31mTypeError\u001b[0m                                 Traceback (most recent call last)",
      "Cell \u001b[1;32mIn[46], line 1\u001b[0m\n\u001b[1;32m----> 1\u001b[0m train_data \u001b[38;5;241m=\u001b[39m \u001b[43mdata\u001b[49m\u001b[43m[\u001b[49m\u001b[43mtrain_mask\u001b[49m\u001b[38;5;241;43m.\u001b[39;49m\u001b[43mnumpy\u001b[49m\u001b[43m(\u001b[49m\u001b[43m)\u001b[49m\u001b[43m]\u001b[49m\n\u001b[0;32m      2\u001b[0m val_data \u001b[38;5;241m=\u001b[39m data[val_mask\u001b[38;5;241m.\u001b[39mnumpy()]\n\u001b[0;32m      3\u001b[0m test_data \u001b[38;5;241m=\u001b[39m data[test_mask\u001b[38;5;241m.\u001b[39mnumpy()]\n",
      "File \u001b[1;32mc:\\Users\\lolis\\Documents\\UNI\\Kurser\\master_thesis\\.venv\\lib\\site-packages\\torch_geometric\\data\\data.py:498\u001b[0m, in \u001b[0;36mData.__getitem__\u001b[1;34m(self, key)\u001b[0m\n\u001b[0;32m    497\u001b[0m \u001b[38;5;28;01mdef\u001b[39;00m \u001b[38;5;21m__getitem__\u001b[39m(\u001b[38;5;28mself\u001b[39m, key: \u001b[38;5;28mstr\u001b[39m) \u001b[38;5;241m-\u001b[39m\u001b[38;5;241m>\u001b[39m Any:\n\u001b[1;32m--> 498\u001b[0m     \u001b[38;5;28;01mreturn\u001b[39;00m \u001b[38;5;28;43mself\u001b[39;49m\u001b[38;5;241;43m.\u001b[39;49m\u001b[43m_store\u001b[49m\u001b[43m[\u001b[49m\u001b[43mkey\u001b[49m\u001b[43m]\u001b[49m\n",
      "File \u001b[1;32mc:\\Users\\lolis\\Documents\\UNI\\Kurser\\master_thesis\\.venv\\lib\\site-packages\\torch_geometric\\data\\storage.py:111\u001b[0m, in \u001b[0;36mBaseStorage.__getitem__\u001b[1;34m(self, key)\u001b[0m\n\u001b[0;32m    110\u001b[0m \u001b[38;5;28;01mdef\u001b[39;00m \u001b[38;5;21m__getitem__\u001b[39m(\u001b[38;5;28mself\u001b[39m, key: \u001b[38;5;28mstr\u001b[39m) \u001b[38;5;241m-\u001b[39m\u001b[38;5;241m>\u001b[39m Any:\n\u001b[1;32m--> 111\u001b[0m     \u001b[38;5;28;01mreturn\u001b[39;00m \u001b[38;5;28;43mself\u001b[39;49m\u001b[38;5;241;43m.\u001b[39;49m\u001b[43m_mapping\u001b[49m\u001b[43m[\u001b[49m\u001b[43mkey\u001b[49m\u001b[43m]\u001b[49m\n",
      "\u001b[1;31mTypeError\u001b[0m: unhashable type: 'numpy.ndarray'"
     ]
    }
   ],
   "source": [
    "train_data = data[train_mask]\n",
    "val_data = data[val_mask]\n",
    "test_data = data[test_mask]\n",
    "\n",
    "train_loader = DataLoader(train_data, batch_size=32, shuffle=True)\n",
    "val_loader = DataLoader(val_data, batch_size=32, shuffle=False)\n",
    "test_loader = DataLoader(test_data, batch_size=32, shuffle=False)"
   ]
  },
  {
   "cell_type": "markdown",
   "metadata": {},
   "source": [
    "# Models"
   ]
  },
  {
   "cell_type": "markdown",
   "metadata": {},
   "source": [
    "## GCN"
   ]
  },
  {
   "cell_type": "code",
   "execution_count": 24,
   "metadata": {},
   "outputs": [],
   "source": [
    "class GCN(nn.Module):\n",
    "    def __init__(self):\n",
    "        super(GCN, self).__init__()\n",
    "        self.conv1 = GCNConv(num_features, 16)\n",
    "        self.conv2 = GCNConv(16, num_classes)\n",
    "\n",
    "    def forward(self, x, edge_index):\n",
    "        x = self.conv1(x, edge_index)\n",
    "        x = F.relu(x)\n",
    "        x = F.dropout(x, training=self.training)\n",
    "        x = self.conv2(x, edge_index)\n",
    "        return F.log_softmax(x, dim=1)"
   ]
  },
  {
   "cell_type": "code",
   "execution_count": 25,
   "metadata": {},
   "outputs": [
    {
     "name": "stdout",
     "output_type": "stream",
     "text": [
      "GCN(\n",
      "  (conv1): GCNConv(1433, 16)\n",
      "  (conv2): GCNConv(16, 7)\n",
      ")\n"
     ]
    }
   ],
   "source": [
    "model = GCN().to(device)\n",
    "print(model)"
   ]
  },
  {
   "cell_type": "markdown",
   "metadata": {},
   "source": [
    "# Training"
   ]
  },
  {
   "cell_type": "code",
   "execution_count": 36,
   "metadata": {},
   "outputs": [],
   "source": [
    "def train(model, train_loader, optimizer):\n",
    "    model.train()\n",
    "    total_loss = 0\n",
    "    for batch in train_loader:\n",
    "        optimizer.zero_grad()\n",
    "        out = model(batch.x.to(device), batch.edge_index.to(device))\n",
    "        loss = F.nll_loss(out, batch.y.to(device))\n",
    "        loss.backward()\n",
    "        optimizer.step()\n",
    "        total_loss += loss.item()\n",
    "    return total_loss / len(train_loader)\n",
    "\n",
    "def test(model, loader):\n",
    "    model.eval()\n",
    "    correct = 0\n",
    "    for data in loader:\n",
    "        with torch.no_grad():\n",
    "            pred = model(data.x.to(device), data.edge_index.to(device)).max(dim=1)[1]\n",
    "        correct += int((pred == data.y.to(device)).sum())\n",
    "    return correct / num_nodes"
   ]
  },
  {
   "cell_type": "code",
   "execution_count": 37,
   "metadata": {},
   "outputs": [
    {
     "name": "stdout",
     "output_type": "stream",
     "text": [
      "Epoch: 001, Loss: 0.1160, Acc: 0.9860\n",
      "Epoch: 002, Loss: 0.1137, Acc: 0.9871\n",
      "Epoch: 003, Loss: 0.1160, Acc: 0.9852\n",
      "Epoch: 004, Loss: 0.1064, Acc: 0.9808\n",
      "Epoch: 005, Loss: 0.1017, Acc: 0.9808\n",
      "Epoch: 006, Loss: 0.1170, Acc: 0.9819\n",
      "Epoch: 007, Loss: 0.1057, Acc: 0.9830\n",
      "Epoch: 008, Loss: 0.1114, Acc: 0.9845\n",
      "Epoch: 009, Loss: 0.1090, Acc: 0.9849\n",
      "Epoch: 010, Loss: 0.1058, Acc: 0.9860\n",
      "Epoch: 011, Loss: 0.1084, Acc: 0.9849\n",
      "Epoch: 012, Loss: 0.1080, Acc: 0.9849\n",
      "Epoch: 013, Loss: 0.1071, Acc: 0.9841\n",
      "Epoch: 014, Loss: 0.0964, Acc: 0.9845\n",
      "Epoch: 015, Loss: 0.1006, Acc: 0.9860\n",
      "Epoch: 016, Loss: 0.1021, Acc: 0.9860\n",
      "Epoch: 017, Loss: 0.0974, Acc: 0.9871\n",
      "Epoch: 018, Loss: 0.0987, Acc: 0.9867\n",
      "Epoch: 019, Loss: 0.1032, Acc: 0.9860\n",
      "Epoch: 020, Loss: 0.1062, Acc: 0.9860\n",
      "Epoch: 021, Loss: 0.1071, Acc: 0.9863\n",
      "Epoch: 022, Loss: 0.0976, Acc: 0.9863\n",
      "Epoch: 023, Loss: 0.0996, Acc: 0.9878\n",
      "Epoch: 024, Loss: 0.1017, Acc: 0.9874\n",
      "Epoch: 025, Loss: 0.1037, Acc: 0.9874\n",
      "Epoch: 026, Loss: 0.0913, Acc: 0.9874\n",
      "Epoch: 027, Loss: 0.0916, Acc: 0.9867\n",
      "Epoch: 028, Loss: 0.0938, Acc: 0.9871\n",
      "Epoch: 029, Loss: 0.0871, Acc: 0.9867\n",
      "Epoch: 030, Loss: 0.0990, Acc: 0.9867\n",
      "Epoch: 031, Loss: 0.0915, Acc: 0.9871\n",
      "Epoch: 032, Loss: 0.1006, Acc: 0.9871\n",
      "Epoch: 033, Loss: 0.0923, Acc: 0.9882\n",
      "Epoch: 034, Loss: 0.0967, Acc: 0.9878\n",
      "Epoch: 035, Loss: 0.0908, Acc: 0.9886\n",
      "Epoch: 036, Loss: 0.0950, Acc: 0.9889\n",
      "Epoch: 037, Loss: 0.0887, Acc: 0.9893\n",
      "Epoch: 038, Loss: 0.0961, Acc: 0.9882\n",
      "Epoch: 039, Loss: 0.0882, Acc: 0.9893\n",
      "Epoch: 040, Loss: 0.0932, Acc: 0.9889\n",
      "Epoch: 041, Loss: 0.0881, Acc: 0.9889\n",
      "Epoch: 042, Loss: 0.0877, Acc: 0.9878\n",
      "Epoch: 043, Loss: 0.0958, Acc: 0.9893\n",
      "Epoch: 044, Loss: 0.0918, Acc: 0.9893\n",
      "Epoch: 045, Loss: 0.0822, Acc: 0.9882\n",
      "Epoch: 046, Loss: 0.0807, Acc: 0.9886\n",
      "Epoch: 047, Loss: 0.0939, Acc: 0.9886\n",
      "Epoch: 048, Loss: 0.0968, Acc: 0.9893\n",
      "Epoch: 049, Loss: 0.0917, Acc: 0.9900\n",
      "Epoch: 050, Loss: 0.0898, Acc: 0.9900\n",
      "Epoch: 051, Loss: 0.0900, Acc: 0.9886\n",
      "Epoch: 052, Loss: 0.0916, Acc: 0.9900\n",
      "Epoch: 053, Loss: 0.0886, Acc: 0.9897\n",
      "Epoch: 054, Loss: 0.0856, Acc: 0.9904\n",
      "Epoch: 055, Loss: 0.0935, Acc: 0.9897\n",
      "Epoch: 056, Loss: 0.0909, Acc: 0.9893\n",
      "Epoch: 057, Loss: 0.0880, Acc: 0.9900\n",
      "Epoch: 058, Loss: 0.0971, Acc: 0.9904\n",
      "Epoch: 059, Loss: 0.0779, Acc: 0.9900\n",
      "Epoch: 060, Loss: 0.0845, Acc: 0.9900\n",
      "Epoch: 061, Loss: 0.0868, Acc: 0.9900\n",
      "Epoch: 062, Loss: 0.0854, Acc: 0.9897\n",
      "Epoch: 063, Loss: 0.0840, Acc: 0.9904\n",
      "Epoch: 064, Loss: 0.0791, Acc: 0.9904\n",
      "Epoch: 065, Loss: 0.0832, Acc: 0.9904\n",
      "Epoch: 066, Loss: 0.0870, Acc: 0.9904\n",
      "Epoch: 067, Loss: 0.0845, Acc: 0.9915\n",
      "Epoch: 068, Loss: 0.0901, Acc: 0.9919\n",
      "Epoch: 069, Loss: 0.0882, Acc: 0.9911\n",
      "Epoch: 070, Loss: 0.0755, Acc: 0.9908\n",
      "Epoch: 071, Loss: 0.0842, Acc: 0.9915\n",
      "Epoch: 072, Loss: 0.0836, Acc: 0.9911\n",
      "Epoch: 073, Loss: 0.0784, Acc: 0.9911\n",
      "Epoch: 074, Loss: 0.0833, Acc: 0.9911\n",
      "Epoch: 075, Loss: 0.0779, Acc: 0.9908\n",
      "Epoch: 076, Loss: 0.0798, Acc: 0.9904\n",
      "Epoch: 077, Loss: 0.0798, Acc: 0.9922\n",
      "Epoch: 078, Loss: 0.0753, Acc: 0.9922\n",
      "Epoch: 079, Loss: 0.0740, Acc: 0.9922\n",
      "Epoch: 080, Loss: 0.0738, Acc: 0.9922\n",
      "Epoch: 081, Loss: 0.0755, Acc: 0.9934\n",
      "Epoch: 082, Loss: 0.0816, Acc: 0.9930\n",
      "Epoch: 083, Loss: 0.0778, Acc: 0.9930\n",
      "Epoch: 084, Loss: 0.0760, Acc: 0.9926\n",
      "Epoch: 085, Loss: 0.0759, Acc: 0.9915\n",
      "Epoch: 086, Loss: 0.0715, Acc: 0.9915\n",
      "Epoch: 087, Loss: 0.0779, Acc: 0.9908\n",
      "Epoch: 088, Loss: 0.0810, Acc: 0.9922\n",
      "Epoch: 089, Loss: 0.0743, Acc: 0.9937\n",
      "Epoch: 090, Loss: 0.0755, Acc: 0.9926\n",
      "Epoch: 091, Loss: 0.0840, Acc: 0.9922\n",
      "Epoch: 092, Loss: 0.0721, Acc: 0.9926\n",
      "Epoch: 093, Loss: 0.0768, Acc: 0.9930\n",
      "Epoch: 094, Loss: 0.0769, Acc: 0.9926\n",
      "Epoch: 095, Loss: 0.0735, Acc: 0.9934\n",
      "Epoch: 096, Loss: 0.0851, Acc: 0.9941\n",
      "Epoch: 097, Loss: 0.0738, Acc: 0.9926\n",
      "Epoch: 098, Loss: 0.0782, Acc: 0.9926\n",
      "Epoch: 099, Loss: 0.0822, Acc: 0.9915\n",
      "Epoch: 100, Loss: 0.0801, Acc: 0.9915\n",
      "Epoch: 101, Loss: 0.0756, Acc: 0.9922\n",
      "Epoch: 102, Loss: 0.0796, Acc: 0.9937\n",
      "Epoch: 103, Loss: 0.0742, Acc: 0.9922\n",
      "Epoch: 104, Loss: 0.0650, Acc: 0.9919\n",
      "Epoch: 105, Loss: 0.0769, Acc: 0.9915\n",
      "Epoch: 106, Loss: 0.0826, Acc: 0.9919\n",
      "Epoch: 107, Loss: 0.0708, Acc: 0.9915\n",
      "Epoch: 108, Loss: 0.0679, Acc: 0.9915\n",
      "Epoch: 109, Loss: 0.0790, Acc: 0.9922\n",
      "Epoch: 110, Loss: 0.0704, Acc: 0.9926\n",
      "Epoch: 111, Loss: 0.0698, Acc: 0.9926\n",
      "Epoch: 112, Loss: 0.0741, Acc: 0.9930\n",
      "Epoch: 113, Loss: 0.0793, Acc: 0.9934\n",
      "Epoch: 114, Loss: 0.0747, Acc: 0.9926\n",
      "Epoch: 115, Loss: 0.0676, Acc: 0.9926\n",
      "Epoch: 116, Loss: 0.0777, Acc: 0.9934\n",
      "Epoch: 117, Loss: 0.0697, Acc: 0.9941\n",
      "Epoch: 118, Loss: 0.0706, Acc: 0.9945\n",
      "Epoch: 119, Loss: 0.0691, Acc: 0.9941\n",
      "Epoch: 120, Loss: 0.0640, Acc: 0.9945\n",
      "Epoch: 121, Loss: 0.0713, Acc: 0.9945\n",
      "Epoch: 122, Loss: 0.0715, Acc: 0.9948\n",
      "Epoch: 123, Loss: 0.0708, Acc: 0.9945\n",
      "Epoch: 124, Loss: 0.0654, Acc: 0.9937\n",
      "Epoch: 125, Loss: 0.0649, Acc: 0.9934\n",
      "Epoch: 126, Loss: 0.0680, Acc: 0.9934\n",
      "Epoch: 127, Loss: 0.0737, Acc: 0.9941\n",
      "Epoch: 128, Loss: 0.0699, Acc: 0.9926\n",
      "Epoch: 129, Loss: 0.0724, Acc: 0.9922\n",
      "Epoch: 130, Loss: 0.0739, Acc: 0.9930\n",
      "Epoch: 131, Loss: 0.0736, Acc: 0.9926\n",
      "Epoch: 132, Loss: 0.0723, Acc: 0.9930\n",
      "Epoch: 133, Loss: 0.0625, Acc: 0.9941\n",
      "Epoch: 134, Loss: 0.0638, Acc: 0.9941\n",
      "Epoch: 135, Loss: 0.0656, Acc: 0.9945\n",
      "Epoch: 136, Loss: 0.0674, Acc: 0.9934\n",
      "Epoch: 137, Loss: 0.0632, Acc: 0.9937\n",
      "Epoch: 138, Loss: 0.0735, Acc: 0.9934\n",
      "Epoch: 139, Loss: 0.0666, Acc: 0.9934\n",
      "Epoch: 140, Loss: 0.0690, Acc: 0.9930\n",
      "Epoch: 141, Loss: 0.0714, Acc: 0.9934\n",
      "Epoch: 142, Loss: 0.0720, Acc: 0.9937\n",
      "Epoch: 143, Loss: 0.0642, Acc: 0.9937\n",
      "Epoch: 144, Loss: 0.0691, Acc: 0.9941\n",
      "Epoch: 145, Loss: 0.0677, Acc: 0.9941\n",
      "Epoch: 146, Loss: 0.0612, Acc: 0.9945\n",
      "Epoch: 147, Loss: 0.0621, Acc: 0.9937\n",
      "Epoch: 148, Loss: 0.0627, Acc: 0.9937\n",
      "Epoch: 149, Loss: 0.0697, Acc: 0.9937\n",
      "Epoch: 150, Loss: 0.0678, Acc: 0.9941\n",
      "Epoch: 151, Loss: 0.0641, Acc: 0.9941\n",
      "Epoch: 152, Loss: 0.0696, Acc: 0.9948\n",
      "Epoch: 153, Loss: 0.0667, Acc: 0.9945\n",
      "Epoch: 154, Loss: 0.0663, Acc: 0.9945\n",
      "Epoch: 155, Loss: 0.0621, Acc: 0.9937\n",
      "Epoch: 156, Loss: 0.0636, Acc: 0.9937\n",
      "Epoch: 157, Loss: 0.0661, Acc: 0.9934\n",
      "Epoch: 158, Loss: 0.0598, Acc: 0.9941\n",
      "Epoch: 159, Loss: 0.0611, Acc: 0.9941\n",
      "Epoch: 160, Loss: 0.0636, Acc: 0.9948\n",
      "Epoch: 161, Loss: 0.0633, Acc: 0.9948\n",
      "Epoch: 162, Loss: 0.0639, Acc: 0.9941\n",
      "Epoch: 163, Loss: 0.0688, Acc: 0.9941\n",
      "Epoch: 164, Loss: 0.0637, Acc: 0.9941\n",
      "Epoch: 165, Loss: 0.0714, Acc: 0.9937\n",
      "Epoch: 166, Loss: 0.0667, Acc: 0.9948\n",
      "Epoch: 167, Loss: 0.0674, Acc: 0.9952\n",
      "Epoch: 168, Loss: 0.0614, Acc: 0.9945\n",
      "Epoch: 169, Loss: 0.0644, Acc: 0.9945\n",
      "Epoch: 170, Loss: 0.0624, Acc: 0.9934\n",
      "Epoch: 171, Loss: 0.0654, Acc: 0.9937\n",
      "Epoch: 172, Loss: 0.0684, Acc: 0.9937\n",
      "Epoch: 173, Loss: 0.0617, Acc: 0.9934\n",
      "Epoch: 174, Loss: 0.0596, Acc: 0.9937\n",
      "Epoch: 175, Loss: 0.0620, Acc: 0.9930\n",
      "Epoch: 176, Loss: 0.0626, Acc: 0.9945\n",
      "Epoch: 177, Loss: 0.0662, Acc: 0.9941\n",
      "Epoch: 178, Loss: 0.0625, Acc: 0.9945\n",
      "Epoch: 179, Loss: 0.0693, Acc: 0.9941\n",
      "Epoch: 180, Loss: 0.0641, Acc: 0.9941\n",
      "Epoch: 181, Loss: 0.0615, Acc: 0.9945\n",
      "Epoch: 182, Loss: 0.0659, Acc: 0.9952\n",
      "Epoch: 183, Loss: 0.0709, Acc: 0.9952\n",
      "Epoch: 184, Loss: 0.0719, Acc: 0.9952\n",
      "Epoch: 185, Loss: 0.0569, Acc: 0.9948\n",
      "Epoch: 186, Loss: 0.0579, Acc: 0.9941\n",
      "Epoch: 187, Loss: 0.0636, Acc: 0.9945\n",
      "Epoch: 188, Loss: 0.0578, Acc: 0.9941\n",
      "Epoch: 189, Loss: 0.0618, Acc: 0.9937\n",
      "Epoch: 190, Loss: 0.0575, Acc: 0.9941\n",
      "Epoch: 191, Loss: 0.0654, Acc: 0.9948\n",
      "Epoch: 192, Loss: 0.0666, Acc: 0.9952\n",
      "Epoch: 193, Loss: 0.0657, Acc: 0.9952\n",
      "Epoch: 194, Loss: 0.0613, Acc: 0.9952\n",
      "Epoch: 195, Loss: 0.0599, Acc: 0.9945\n",
      "Epoch: 196, Loss: 0.0554, Acc: 0.9941\n",
      "Epoch: 197, Loss: 0.0635, Acc: 0.9945\n",
      "Epoch: 198, Loss: 0.0571, Acc: 0.9948\n",
      "Epoch: 199, Loss: 0.0597, Acc: 0.9952\n",
      "Epoch: 200, Loss: 0.0538, Acc: 0.9956\n"
     ]
    }
   ],
   "source": [
    "optimizer = optim.Adam(model.parameters(), lr=0.01)\n",
    "epochs = 200\n",
    "\n",
    "\n",
    "for epoch in range(1, epochs+1):\n",
    "    loss = train(model, train_loader, optimizer)\n",
    "    acc = test(model, cora_dataset)\n",
    "    print(f'Epoch: {epoch:03d}, Loss: {loss:.4f}, Acc: {acc:.4f}')"
   ]
  },
  {
   "cell_type": "code",
   "execution_count": null,
   "metadata": {},
   "outputs": [],
   "source": []
  }
 ],
 "metadata": {
  "kernelspec": {
   "display_name": ".venv",
   "language": "python",
   "name": "python3"
  },
  "language_info": {
   "codemirror_mode": {
    "name": "ipython",
    "version": 3
   },
   "file_extension": ".py",
   "mimetype": "text/x-python",
   "name": "python",
   "nbconvert_exporter": "python",
   "pygments_lexer": "ipython3",
   "version": "3.10.11"
  }
 },
 "nbformat": 4,
 "nbformat_minor": 2
}
