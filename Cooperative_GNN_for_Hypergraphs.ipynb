{
 "cells": [
  {
   "cell_type": "code",
   "execution_count": 1,
   "metadata": {},
   "outputs": [
    {
     "name": "stderr",
     "output_type": "stream",
     "text": [
      "c:\\Users\\lolis\\Documents\\UNI\\Kurser\\master_thesis\\.venv\\lib\\site-packages\\tqdm\\auto.py:21: TqdmWarning: IProgress not found. Please update jupyter and ipywidgets. See https://ipywidgets.readthedocs.io/en/stable/user_install.html\n",
      "  from .autonotebook import tqdm as notebook_tqdm\n"
     ]
    }
   ],
   "source": [
    "import numpy as np\n",
    "import matplotlib.pyplot as plt\n",
    "from collections import defaultdict\n",
    "\n",
    "from utils import EarlyStopping\n",
    "\n",
    "import torch\n",
    "import torch.nn as nn\n",
    "import torch.optim as optim\n",
    "import torch.nn.functional as F\n",
    "\n",
    "import networkx as nx\n",
    "\n",
    "import dhg\n",
    "from dhg import Graph\n",
    "from dhg import Hypergraph\n",
    "from dhg.data import BaseData\n",
    "from dhg.data import Cora\n",
    "from dhg.data import CoauthorshipCora\n",
    "from dhg.data import CocitationCora\n",
    "from dhg.data import YelpRestaurant\n",
    "from dhg.data import Yelp3k\n",
    "from dhg.data import IMDB4k\n",
    "from dhg.data import Cooking200\n",
    "import dhg.datapipe as dd\n",
    "from dhg.models import GCN\n",
    "from dhg.random import set_seed\n",
    "from dhg.metrics import GraphVertexClassificationEvaluator as Evaluator"
   ]
  },
  {
   "cell_type": "code",
   "execution_count": 2,
   "metadata": {},
   "outputs": [
    {
     "name": "stdout",
     "output_type": "stream",
     "text": [
      "cuda\n"
     ]
    }
   ],
   "source": [
    "device = torch.device('cuda' if torch.cuda.is_available() else 'cpu')\n",
    "print(device)"
   ]
  },
  {
   "cell_type": "markdown",
   "metadata": {},
   "source": [
    "# Data"
   ]
  },
  {
   "cell_type": "markdown",
   "metadata": {},
   "source": [
    "## Normal Cora"
   ]
  },
  {
   "cell_type": "code",
   "execution_count": 35,
   "metadata": {},
   "outputs": [],
   "source": [
    "dataset = Cora()\n",
    "\n",
    "hyperedges = dataset['edge_list']\n",
    "\n",
    "X = dataset['features'].to(device)\n",
    "labels = dataset['labels'].to(device)\n",
    "G = Hypergraph(dataset['num_vertices'], hyperedges).to(device)"
   ]
  },
  {
   "cell_type": "code",
   "execution_count": 36,
   "metadata": {},
   "outputs": [
    {
     "name": "stdout",
     "output_type": "stream",
     "text": [
      "Number of classes: 7\n",
      "Number of nodes: 2708\n",
      "Number of node features: 1433\n",
      "Number of edges: 10858\n",
      "Node features: torch.Size([2708, 1433])\n",
      "Labels: torch.Size([2708])\n",
      "Train mask: tensor([ True,  True,  True,  ..., False, False, False], device='cuda:0')\n",
      "Validation mask: tensor([False, False, False,  ..., False, False, False], device='cuda:0')\n",
      "Test mask: tensor([False, False, False,  ...,  True,  True,  True], device='cuda:0')\n"
     ]
    }
   ],
   "source": [
    "# Print the number of classes\n",
    "num_classes = dataset['num_classes']\n",
    "print(\"Number of classes:\", num_classes)\n",
    "\n",
    "# Print the number of nodes\n",
    "num_nodes = dataset['num_vertices']\n",
    "print(\"Number of nodes:\", num_nodes)\n",
    "\n",
    "# Print the number of node features\n",
    "num_node_features = dataset['dim_features']\n",
    "print(\"Number of node features:\", num_node_features)\n",
    "\n",
    "# Print number of edges\n",
    "num_edges = len(hyperedges)\n",
    "print(\"Number of edges:\", num_edges)\n",
    "\n",
    "# Print the node features\n",
    "print(\"Node features:\", dataset['features'].shape)\n",
    "\n",
    "# Print the labels\n",
    "print(\"Labels:\", dataset['labels'].shape)\n",
    "\n",
    "# Print the train, validation, and test masks\n",
    "train_mask = dataset['train_mask'].to(device)\n",
    "val_mask = dataset['val_mask'].to(device)\n",
    "test_mask = dataset['test_mask'].to(device)\n",
    "print(\"Train mask:\", train_mask)\n",
    "print(\"Validation mask:\", val_mask)\n",
    "print(\"Test mask:\", test_mask)"
   ]
  },
  {
   "cell_type": "markdown",
   "metadata": {},
   "source": [
    "## Coauthorship Cora"
   ]
  },
  {
   "cell_type": "code",
   "execution_count": 3,
   "metadata": {},
   "outputs": [],
   "source": [
    "dataset = CoauthorshipCora()\n",
    "set_seed(42)\n",
    "X = dataset['features'].to(device)\n",
    "# Normalize the features\n",
    "dd.norm_ft(X)\n",
    "labels = dataset['labels'].to(device)\n",
    "G = Hypergraph(dataset['num_vertices'], dataset['edge_list']).to(device)"
   ]
  },
  {
   "cell_type": "code",
   "execution_count": 4,
   "metadata": {},
   "outputs": [
    {
     "name": "stdout",
     "output_type": "stream",
     "text": [
      "Data object: This is coauthorship_cora dataset:\n",
      "  ->  num_classes\n",
      "  ->  num_vertices\n",
      "  ->  num_edges\n",
      "  ->  dim_features\n",
      "  ->  features\n",
      "  ->  edge_list\n",
      "  ->  labels\n",
      "  ->  train_mask\n",
      "  ->  val_mask\n",
      "  ->  test_mask\n",
      "Please try `data['name']` to get the specified data.\n",
      "Number of classes: 7\n",
      "Number of nodes: 2708\n",
      "Number of node features: 1433\n",
      "Number of edges: 1072\n",
      "Maximum edge size: 43\n",
      "Node features: torch.Size([2708, 1433])\n",
      "Labels: torch.Size([2708])\n",
      "Training nodes: 140\n",
      "Validation nodes: 2568\n",
      "Test nodes: 2568\n"
     ]
    }
   ],
   "source": [
    "# Print the data object\n",
    "print(\"Data object:\", dataset)\n",
    "\n",
    "# Print the number of classes\n",
    "num_classes = dataset['num_classes']\n",
    "print(\"Number of classes:\", num_classes)\n",
    "\n",
    "# Print the number of nodes\n",
    "num_nodes = dataset['num_vertices']\n",
    "print(\"Number of nodes:\", num_nodes)\n",
    "\n",
    "# Print the number of node features\n",
    "num_node_features = dataset['dim_features']\n",
    "print(\"Number of node features:\", num_node_features)\n",
    "\n",
    "# Print number of edges\n",
    "num_edges = dataset['num_edges']\n",
    "print(\"Number of edges:\", num_edges)\n",
    "\n",
    "# Print maximum edge size\n",
    "max_edge_size = max([len(edge) for edge in dataset['edge_list']])\n",
    "print(\"Maximum edge size:\", max_edge_size)\n",
    "\n",
    "# Print the node features\n",
    "print(\"Node features:\", dataset['features'].shape)\n",
    "\n",
    "# Print the labels\n",
    "print(\"Labels:\", dataset['labels'].shape)\n",
    "\n",
    "# Print the train, validation, and test masks\n",
    "train_mask = dataset['train_mask'].to(device)\n",
    "val_mask = dataset['val_mask'].to(device)\n",
    "test_mask = dataset['test_mask'].to(device)\n",
    "print(\"Training nodes:\", train_mask.sum().item())\n",
    "print(\"Validation nodes:\", val_mask.sum().item())\n",
    "print(\"Test nodes:\", test_mask.sum().item())"
   ]
  },
  {
   "cell_type": "code",
   "execution_count": 5,
   "metadata": {},
   "outputs": [],
   "source": [
    "# Manual train/val/test split\n",
    "train_mask = torch.zeros(num_nodes, dtype=torch.bool).to(device)\n",
    "test_mask = torch.zeros(num_nodes, dtype=torch.bool).to(device)\n",
    "\n",
    "train_mask[:1354] = True\n",
    "test_mask[1354:] = True\n",
    "\n",
    "# Shuffle the nodes\n",
    "perm = torch.randperm(num_nodes)\n",
    "train_mask = train_mask[perm]\n",
    "test_mask = test_mask[perm]\n",
    "val_mask = test_mask.clone()"
   ]
  },
  {
   "cell_type": "markdown",
   "metadata": {},
   "source": [
    "## Cocitation Cora"
   ]
  },
  {
   "cell_type": "code",
   "execution_count": 3,
   "metadata": {},
   "outputs": [],
   "source": [
    "dataset = CocitationCora()\n",
    "set_seed(42)\n",
    "X = dataset['features'].to(device)\n",
    "labels = dataset['labels'].to(device)\n",
    "G = Hypergraph(dataset['num_vertices'], dataset['edge_list']).to(device)"
   ]
  },
  {
   "cell_type": "code",
   "execution_count": 4,
   "metadata": {},
   "outputs": [
    {
     "name": "stdout",
     "output_type": "stream",
     "text": [
      "Data object: This is cocitation_cora dataset:\n",
      "  ->  num_classes\n",
      "  ->  num_vertices\n",
      "  ->  num_edges\n",
      "  ->  dim_features\n",
      "  ->  features\n",
      "  ->  edge_list\n",
      "  ->  labels\n",
      "  ->  train_mask\n",
      "  ->  val_mask\n",
      "  ->  test_mask\n",
      "Please try `data['name']` to get the specified data.\n",
      "Number of classes: 7\n",
      "Number of nodes: 2708\n",
      "Number of node features: 1433\n",
      "Number of edges: 1579\n",
      "Maximum edge size: 5\n",
      "Node features: torch.Size([2708, 1433])\n",
      "Labels: torch.Size([2708])\n",
      "Train mask: tensor([False, False, False,  ..., False, False, False], device='cuda:0')\n",
      "Validation mask: tensor([True, True, True,  ..., True, True, True], device='cuda:0')\n",
      "Test mask: tensor([True, True, True,  ..., True, True, True], device='cuda:0')\n"
     ]
    }
   ],
   "source": [
    "# Print the data object\n",
    "print(\"Data object:\", dataset)\n",
    "\n",
    "# Print the number of classes\n",
    "num_classes = dataset['num_classes']\n",
    "print(\"Number of classes:\", num_classes)\n",
    "\n",
    "# Print the number of nodes\n",
    "num_nodes = dataset['num_vertices']\n",
    "print(\"Number of nodes:\", num_nodes)\n",
    "\n",
    "# Print the number of node features\n",
    "num_node_features = dataset['dim_features']\n",
    "print(\"Number of node features:\", num_node_features)\n",
    "\n",
    "# Print number of edges\n",
    "num_edges = dataset['num_edges']\n",
    "print(\"Number of edges:\", num_edges)\n",
    "\n",
    "# Print maximum edge size\n",
    "max_edge_size = max([len(edge) for edge in dataset['edge_list']])\n",
    "print(\"Maximum edge size:\", max_edge_size)\n",
    "\n",
    "# Print the node features\n",
    "print(\"Node features:\", dataset['features'].shape)\n",
    "\n",
    "# Print the labels\n",
    "print(\"Labels:\", dataset['labels'].shape)\n",
    "\n",
    "# Print the train, validation, and test masks\n",
    "train_mask = dataset['train_mask'].to(device)\n",
    "val_mask = dataset['val_mask'].to(device)\n",
    "test_mask = dataset['test_mask'].to(device)\n",
    "print(\"Train mask:\", train_mask)\n",
    "print(\"Validation mask:\", val_mask)\n",
    "print(\"Test mask:\", test_mask)"
   ]
  },
  {
   "cell_type": "code",
   "execution_count": 5,
   "metadata": {},
   "outputs": [],
   "source": [
    "# Manual train/val/test split\n",
    "train_mask = torch.zeros(num_nodes, dtype=torch.bool).to(device)\n",
    "test_mask = torch.zeros(num_nodes, dtype=torch.bool).to(device)\n",
    "\n",
    "train_mask[:1000] = True\n",
    "test_mask[1000:] = True\n",
    "\n",
    "# Shuffle the nodes\n",
    "perm = torch.randperm(num_nodes)\n",
    "train_mask = train_mask[perm]\n",
    "test_mask = test_mask[perm]\n",
    "val_mask = test_mask.clone()"
   ]
  },
  {
   "cell_type": "markdown",
   "metadata": {},
   "source": [
    "## other Co-citation cora"
   ]
  },
  {
   "cell_type": "code",
   "execution_count": 134,
   "metadata": {},
   "outputs": [
    {
     "name": "stdout",
     "output_type": "stream",
     "text": [
      "number of hyperedges is 1579\n"
     ]
    }
   ],
   "source": [
    "from datasets.data import load\n",
    "\n",
    "class Args:\n",
    "    def __init__(self):\n",
    "        self.data = 'cocitation'\n",
    "        self.dataset = 'cora'\n",
    "        self.split = 4\n",
    "\n",
    "args = Args()\n",
    "\n",
    "dataset, train_mask, test_mask = load(args)\n",
    "set_seed(42)\n",
    "\n",
    "dataset.keys()\n",
    "\n",
    "X = torch.tensor(dataset['features']).to(device)\n",
    "labels = torch.argmax(torch.tensor(dataset['labels']), dim=1).to(device)\n",
    "G = Hypergraph(dataset['n'], list(dataset['hypergraph'].values())).to(device)"
   ]
  },
  {
   "cell_type": "code",
   "execution_count": 135,
   "metadata": {},
   "outputs": [
    {
     "name": "stdout",
     "output_type": "stream",
     "text": [
      "Number of classes: 7\n",
      "Number of nodes: 2708\n",
      "Number of node features: 1433\n",
      "Number of edges: 1579\n",
      "Node features: (2708, 1433)\n",
      "Labels: (2708, 7)\n",
      "Train mask: 140\n",
      "Test mask: 2568\n",
      "Train mask: tensor([False, False,  True,  ..., False, False, False], device='cuda:0')\n",
      "Validation mask: tensor([ True,  True, False,  ...,  True,  True,  True], device='cuda:0')\n",
      "Test mask: tensor([ True,  True, False,  ...,  True,  True,  True], device='cuda:0')\n"
     ]
    }
   ],
   "source": [
    "# Print the number of classes\n",
    "num_classes = 7\n",
    "print(\"Number of classes:\", num_classes)\n",
    "\n",
    "# Print the number of nodes\n",
    "num_nodes = dataset['n']\n",
    "print(\"Number of nodes:\", num_nodes)\n",
    "\n",
    "# Print the number of node features\n",
    "num_node_features = dataset['features'].shape[1]\n",
    "print(\"Number of node features:\", num_node_features)\n",
    "\n",
    "# Print number of edges\n",
    "num_edges = len(dataset['hypergraph'])\n",
    "print(\"Number of edges:\", num_edges)\n",
    "\n",
    "# Print the node features\n",
    "print(\"Node features:\", dataset['features'].shape)\n",
    "\n",
    "# Print the labels\n",
    "print(\"Labels:\", dataset['labels'].shape)\n",
    "\n",
    "# Print the train, validation, and test masks\n",
    "train_mask = torch.tensor(train_mask)\n",
    "print(\"Train mask:\", len(train_mask))\n",
    "train_mask = torch.zeros(num_nodes, dtype=torch.bool).scatter_(0, train_mask, 1).to(device)\n",
    "test_mask = torch.tensor(test_mask)\n",
    "print(\"Test mask:\", len(test_mask))\n",
    "test_mask = torch.zeros(num_nodes, dtype=torch.bool).scatter_(0, test_mask, 1).to(device)\n",
    "val_mask = test_mask\n",
    "print(\"Train mask:\", train_mask)\n",
    "print(\"Validation mask:\", val_mask)\n",
    "print(\"Test mask:\", test_mask)"
   ]
  },
  {
   "cell_type": "markdown",
   "metadata": {},
   "source": [
    "## Manual Co-citation cora"
   ]
  },
  {
   "cell_type": "code",
   "execution_count": 142,
   "metadata": {},
   "outputs": [],
   "source": [
    "dataset = Cora()\n",
    "# Initialize hyperedges as a dictionary where each key is an article (node)\n",
    "citing = dict()\n",
    "cited = dict()\n",
    "\n",
    "# Create hyperedges based on citation relationships\n",
    "for source, target in dataset['edge_list']:\n",
    "    citing[source] = citing.get(source, set()).union({target})\n",
    "    cited[target] = cited.get(target, set()).union({source})\n",
    "\n",
    "# Create a list of hyperedges\n",
    "hyperedges = []\n",
    "for source, targets in citing.items():\n",
    "    hyperedges.append(tuple(targets))\n",
    "\n",
    "for target, sources in cited.items():\n",
    "    hyperedges.append(tuple(sources))\n",
    "\n",
    "for e in hyperedges:\n",
    "    if len(e) == 0:\n",
    "        hyperedges.remove(e)\n",
    "\n",
    "X = dataset['features'].to(device)\n",
    "labels = dataset['labels'].to(device)\n",
    "G = Hypergraph(dataset['num_vertices'], hyperedges).to(device)"
   ]
  },
  {
   "cell_type": "code",
   "execution_count": 143,
   "metadata": {},
   "outputs": [],
   "source": [
    "# class MyCocitationCora(BaseData):\n",
    "#     def __init__(self, data_root: Optional[str] = None) -> None:\n",
    "#         super().__init__('MyCocitationCora', data_root)\n",
    "#         self._content = {\n",
    "#             \"num_classes\": 7,\n",
    "#             \"num_vertices\": 2708,\n",
    "#             \"num_edges\": 4664,\n",
    "#             \"dim_features\": 1433,\n",
    "#             'features': {\n",
    "#                 'upon': [{ 'filename': 'features.pkl', 'md5': '05b45e9c38cc95f4fc44b3668cc9ddc9' }],\n",
    "#                 'loader': load_from_pickle,\n",
    "#                 'preprocess': [to_tensor, partial(norm_ft, ord=1)],\n",
    "#             },\n",
    "#             'edge_list': {\n",
    "#                 'upon': [{ 'filename': 'edge_list.pkl', 'md5': 'f488389c1edd0d898ce273fbd27822b3' }],\n",
    "#                 'loader': load_from_pickle,\n",
    "#             },\n",
    "#             'labels': {\n",
    "#                 'upon': [{ 'filename': 'labels.pkl', 'md5': 'e506014762052c6a36cb583c28bdae1d' }],\n",
    "#                 'loader': load_from_pickle,\n",
    "#                 'preprocess': [to_long_tensor],\n",
    "#             },\n",
    "#             'train_mask': {\n",
    "#                 'upon': [{ 'filename': 'train_mask.pkl', 'md5': 'a11357a40e1f0b5cce728d1a961b8e13' }],\n",
    "#                 'loader': load_from_pickle,\n",
    "#                 'preprocess': [to_bool_tensor],\n",
    "#             },\n",
    "#             'val_mask': {\n",
    "#                 'upon': [{ 'filename': 'val_mask.pkl', 'md5': '355544da566452601bcfa74d30539a71' }],\n",
    "#                 'loader': load_from_pickle,\n",
    "#                 'preprocess': [to_bool_tensor],\n",
    "#             },\n",
    "#             'test_mask': {\n",
    "#                 'upon': [{ 'filename': 'test_mask.pkl', 'md5': 'bbfc87d661560f55f6946f8cb9d602b9' }],\n",
    "#                 'loader': load_from_pickle,\n",
    "#                 'preprocess': [to_bool_tensor],\n",
    "#             },\n",
    "#         }"
   ]
  },
  {
   "cell_type": "code",
   "execution_count": 144,
   "metadata": {},
   "outputs": [
    {
     "name": "stdout",
     "output_type": "stream",
     "text": [
      "Number of classes: 7\n",
      "Number of nodes: 2708\n",
      "Number of node features: 1433\n",
      "Number of edges: 5416\n",
      "Node features: torch.Size([2708, 1433])\n",
      "Labels: torch.Size([2708])\n",
      "Train mask: tensor([ True,  True,  True,  ..., False, False, False], device='cuda:0')\n",
      "Validation mask: tensor([False, False, False,  ..., False, False, False], device='cuda:0')\n",
      "Test mask: tensor([False, False, False,  ...,  True,  True,  True], device='cuda:0')\n"
     ]
    }
   ],
   "source": [
    "# Print the number of classes\n",
    "num_classes = dataset['num_classes']\n",
    "print(\"Number of classes:\", num_classes)\n",
    "\n",
    "# Print the number of nodes\n",
    "num_nodes = dataset['num_vertices']\n",
    "print(\"Number of nodes:\", num_nodes)\n",
    "\n",
    "# Print the number of node features\n",
    "num_node_features = dataset['dim_features']\n",
    "print(\"Number of node features:\", num_node_features)\n",
    "\n",
    "# Print number of edges\n",
    "num_edges = len(hyperedges)\n",
    "print(\"Number of edges:\", num_edges)\n",
    "\n",
    "# Print the node features\n",
    "print(\"Node features:\", dataset['features'].shape)\n",
    "\n",
    "# Print the labels\n",
    "print(\"Labels:\", dataset['labels'].shape)\n",
    "\n",
    "# Print the train, validation, and test masks\n",
    "train_mask = dataset['train_mask'].to(device)\n",
    "val_mask = dataset['val_mask'].to(device)\n",
    "test_mask = dataset['test_mask'].to(device)\n",
    "print(\"Train mask:\", train_mask)\n",
    "print(\"Validation mask:\", val_mask)\n",
    "print(\"Test mask:\", test_mask)"
   ]
  },
  {
   "cell_type": "markdown",
   "metadata": {},
   "source": [
    "## Yelp Restaurant"
   ]
  },
  {
   "cell_type": "code",
   "execution_count": 7,
   "metadata": {},
   "outputs": [],
   "source": [
    "dataset = Yelp3k()\n",
    "set_seed(42)\n",
    "X = dataset['features'].to(device)\n",
    "labels = dataset['labels'].to(device)\n",
    "G = Hypergraph(dataset['num_vertices'], dataset['edge_list']).to(device)"
   ]
  },
  {
   "cell_type": "code",
   "execution_count": 8,
   "metadata": {},
   "outputs": [
    {
     "name": "stdout",
     "output_type": "stream",
     "text": [
      "Number of classes: 6\n",
      "Number of nodes: 3855\n",
      "Number of node features: 1862\n",
      "Train mask: tensor([ True,  True,  True,  ..., False, False, False], device='cuda:0')\n",
      "Validation mask: tensor([False, False, False,  ..., False, False, False], device='cuda:0')\n",
      "Test mask: tensor([False, False, False,  ...,  True,  True,  True], device='cuda:0')\n"
     ]
    }
   ],
   "source": [
    "# Print the data object\n",
    "#print(\"Data object:\", dataset)\n",
    "\n",
    "# Print the number of classes\n",
    "num_classes = dataset['num_classes']\n",
    "print(\"Number of classes:\", num_classes)\n",
    "\n",
    "# Print the number of nodes\n",
    "num_nodes = dataset['num_vertices']\n",
    "print(\"Number of nodes:\", num_nodes)\n",
    "\n",
    "# Print the number of node features\n",
    "num_node_features = dataset['dim_features']\n",
    "print(\"Number of node features:\", num_node_features)\n",
    "\n",
    "# Print the edge index\n",
    "#print(\"Edge index:\", dataset['edge_list'])\n",
    "\n",
    "# Print the node features\n",
    "#print(\"Node features:\", dataset['features'])\n",
    "\n",
    "# Print the labels\n",
    "#print(\"Labels:\", dataset['labels'])\n",
    "\n",
    "train_mask = torch.zeros(num_nodes, dtype=torch.bool).to(device)\n",
    "train_mask[:num_nodes // 2] = 1\n",
    "val_mask = torch.zeros(num_nodes, dtype=torch.bool).to(device)\n",
    "val_mask[num_nodes // 2: 3 * num_nodes // 4] = 1\n",
    "test_mask = torch.zeros(num_nodes, dtype=torch.bool).to(device)\n",
    "test_mask[3 * num_nodes // 4:] = 1\n",
    "\n",
    "\n",
    "# Print the train, validation, and test masks\n",
    "# train_mask = dataset['train_mask'].to(device)\n",
    "# val_mask = dataset['val_mask'].to(device)\n",
    "# test_mask = dataset['test_mask'].to(device)\n",
    "print(\"Train mask:\", train_mask)\n",
    "print(\"Validation mask:\", val_mask)\n",
    "print(\"Test mask:\", test_mask)"
   ]
  },
  {
   "cell_type": "markdown",
   "metadata": {},
   "source": [
    "## IMDB"
   ]
  },
  {
   "cell_type": "code",
   "execution_count": 14,
   "metadata": {},
   "outputs": [],
   "source": [
    "dataset = IMDB4k()\n",
    "set_seed(42)\n",
    "X = dataset['features'].to(device)\n",
    "labels = dataset['labels'].to(device)\n",
    "G = Hypergraph(dataset['num_vertices'], dataset['edge_by_director']).to(device)"
   ]
  },
  {
   "cell_type": "code",
   "execution_count": 15,
   "metadata": {},
   "outputs": [
    {
     "name": "stdout",
     "output_type": "stream",
     "text": [
      "Number of classes: 3\n",
      "Number of nodes: 4278\n",
      "Number of node features: 3066\n",
      "Training nodes: 2139\n",
      "Validation nodes: 1069\n",
      "Test nodes: 1070\n"
     ]
    }
   ],
   "source": [
    "# Print the data object\n",
    "#print(\"Data object:\", dataset)\n",
    "\n",
    "# Print the number of classes\n",
    "num_classes = dataset['num_classes']\n",
    "print(\"Number of classes:\", num_classes)\n",
    "\n",
    "# Print the number of nodes\n",
    "num_nodes = dataset['num_vertices']\n",
    "print(\"Number of nodes:\", num_nodes)\n",
    "\n",
    "# Print the number of node features\n",
    "num_node_features = dataset['dim_features']\n",
    "print(\"Number of node features:\", num_node_features)\n",
    "\n",
    "# Print the edge index\n",
    "#print(\"Edge index:\", dataset['edge_list'])\n",
    "\n",
    "# Print the node features\n",
    "#print(\"Node features:\", dataset['features'])\n",
    "\n",
    "# Print the labels\n",
    "#print(\"Labels:\", dataset['labels'])\n",
    "\n",
    "train_mask = torch.zeros(num_nodes, dtype=torch.bool).to(device)\n",
    "train_mask[:num_nodes // 2] = 1\n",
    "val_mask = torch.zeros(num_nodes, dtype=torch.bool).to(device)\n",
    "val_mask[num_nodes // 2: 3 * num_nodes // 4] = 1\n",
    "test_mask = torch.zeros(num_nodes, dtype=torch.bool).to(device)\n",
    "test_mask[3 * num_nodes // 4:] = 1\n",
    "\n",
    "\n",
    "# Print the train, validation, and test masks\n",
    "# train_mask = dataset['train_mask'].to(device)\n",
    "# val_mask = dataset['val_mask'].to(device)\n",
    "# test_mask = dataset['test_mask'].to(device)\n",
    "print(\"Training nodes:\", train_mask.sum().item())\n",
    "print(\"Validation nodes:\", val_mask.sum().item())\n",
    "print(\"Test nodes:\", test_mask.sum().item())"
   ]
  },
  {
   "cell_type": "markdown",
   "metadata": {},
   "source": [
    "## Cooking 200"
   ]
  },
  {
   "cell_type": "code",
   "execution_count": 5,
   "metadata": {},
   "outputs": [
    {
     "name": "stdout",
     "output_type": "stream",
     "text": [
      "This is cooking_200 dataset:\n",
      "  ->  num_classes\n",
      "  ->  num_vertices\n",
      "  ->  num_edges\n",
      "  ->  edge_list\n",
      "  ->  labels\n",
      "  ->  train_mask\n",
      "  ->  val_mask\n",
      "  ->  test_mask\n",
      "Please try `data['name']` to get the specified data.\n"
     ]
    }
   ],
   "source": [
    "dataset = Cooking200()\n",
    "set_seed(2021)\n",
    "print(dataset)\n",
    "X = torch.eye(dataset[\"num_vertices\"]).to(device)\n",
    "labels = dataset['labels'].to(device)\n",
    "G = Hypergraph(dataset['num_vertices'], dataset['edge_list']).to(device)"
   ]
  },
  {
   "cell_type": "code",
   "execution_count": 6,
   "metadata": {},
   "outputs": [
    {
     "name": "stdout",
     "output_type": "stream",
     "text": [
      "Number of classes: 20\n",
      "Number of nodes: 7403\n",
      "Number of node features: 7403\n",
      "Training nodes: 200\n",
      "Validation nodes: 200\n",
      "Test nodes: 7003\n"
     ]
    }
   ],
   "source": [
    "# Print the number of classes\n",
    "num_classes = dataset['num_classes']\n",
    "print(\"Number of classes:\", num_classes)\n",
    "\n",
    "# Print the number of nodes\n",
    "num_nodes = dataset['num_vertices']\n",
    "print(\"Number of nodes:\", num_nodes)\n",
    "\n",
    "# Print the number of node features\n",
    "num_node_features = X.shape[1]\n",
    "print(\"Number of node features:\", num_node_features)\n",
    "\n",
    "# Print the train, validation, and test masks\n",
    "train_mask = dataset['train_mask'].to(device)\n",
    "val_mask = dataset['val_mask'].to(device)\n",
    "test_mask = dataset['test_mask'].to(device)\n",
    "print(\"Training nodes:\", train_mask.sum().item())\n",
    "print(\"Validation nodes:\", val_mask.sum().item())\n",
    "print(\"Test nodes:\", test_mask.sum().item())"
   ]
  },
  {
   "cell_type": "markdown",
   "metadata": {},
   "source": [
    "# Models"
   ]
  },
  {
   "cell_type": "markdown",
   "metadata": {},
   "source": [
    "## HCoGNN"
   ]
  },
  {
   "cell_type": "code",
   "execution_count": 17,
   "metadata": {},
   "outputs": [
    {
     "name": "stdout",
     "output_type": "stream",
     "text": [
      "Model: HCoGNN_node_classifier(\n",
      "  (classifier): ModuleList(\n",
      "    (0): Linear(in_features=1433, out_features=64, bias=True)\n",
      "    (1): GELU(approximate='none')\n",
      "    (2): Linear(in_features=64, out_features=7, bias=True)\n",
      "  )\n",
      "  (dropout): Dropout(p=0.5, inplace=False)\n",
      "  (activation): GELU(approximate='none')\n",
      "  (action_net): action_network(\n",
      "    (layers): ModuleList(\n",
      "      (0): Linear(in_features=1433, out_features=1433, bias=True)\n",
      "      (1): GELU(approximate='none')\n",
      "    )\n",
      "    (activation): GELU(approximate='none')\n",
      "    (lin_update): Linear(in_features=1433, out_features=1433, bias=True)\n",
      "    (action_layer): Linear(in_features=1433, out_features=4, bias=True)\n",
      "    (dropout): Dropout(p=0, inplace=False)\n",
      "  )\n",
      "  (environment_net): environment_network(\n",
      "    (layers): ModuleList(\n",
      "      (0): Linear(in_features=1433, out_features=512, bias=True)\n",
      "      (1): GELU(approximate='none')\n",
      "      (2): Linear(in_features=512, out_features=1433, bias=True)\n",
      "      (3): GELU(approximate='none')\n",
      "    )\n",
      "    (activation): GELU(approximate='none')\n",
      "    (lin_update): Linear(in_features=1433, out_features=1433, bias=True)\n",
      "    (dropout): Dropout(p=0, inplace=False)\n",
      "  )\n",
      ")\n",
      "Model Device: cuda:0\n"
     ]
    }
   ],
   "source": [
    "from models.HCoGNN import HCoGNN_node_classifier\n",
    "from models.ActionNetwork import action_network\n",
    "from models.EnvironmentNetwork import environment_network\n",
    "\n",
    "action_net = action_network(num_node_features, \"mean\", nn.GELU(), [], 0, 0).to(device)\n",
    "environment_net = environment_network(num_node_features, \"mean\", nn.GELU(), [512], 1, 0).to(device)\n",
    "model = HCoGNN_node_classifier(num_node_features, num_classes, 1, nn.GELU(), action_net, environment_net, [64], dropout=0.5).to(device)\n",
    "\n",
    "print(\"Model:\", model)\n",
    "print(\"Model Device:\", next(model.parameters()).device)"
   ]
  },
  {
   "cell_type": "code",
   "execution_count": 18,
   "metadata": {},
   "outputs": [
    {
     "name": "stdout",
     "output_type": "stream",
     "text": [
      "Optimizer: Adam (\n",
      "Parameter Group 0\n",
      "    amsgrad: False\n",
      "    betas: (0.9, 0.999)\n",
      "    capturable: False\n",
      "    differentiable: False\n",
      "    eps: 1e-08\n",
      "    foreach: None\n",
      "    fused: None\n",
      "    lr: 0.01\n",
      "    maximize: False\n",
      "    weight_decay: 1e-05\n",
      "\n",
      "Parameter Group 1\n",
      "    amsgrad: False\n",
      "    betas: (0.9, 0.999)\n",
      "    capturable: False\n",
      "    differentiable: False\n",
      "    eps: 1e-08\n",
      "    foreach: None\n",
      "    fused: None\n",
      "    lr: 0.001\n",
      "    maximize: False\n",
      "    weight_decay: 1e-05\n",
      "\n",
      "Parameter Group 2\n",
      "    amsgrad: False\n",
      "    betas: (0.9, 0.999)\n",
      "    capturable: False\n",
      "    differentiable: False\n",
      "    eps: 1e-08\n",
      "    foreach: None\n",
      "    fused: None\n",
      "    lr: 0.001\n",
      "    maximize: False\n",
      "    weight_decay: 1e-05\n",
      ")\n",
      "Data Device: cuda:0\n"
     ]
    }
   ],
   "source": [
    "params = [{'params': model.classifier.parameters(), 'lr': 0.01, 'weight_decay': 1e-5}, \n",
    "          {'params': model.action_net.parameters(), 'lr': 0.001, 'weight_decay': 1e-5}, \n",
    "          {'params': model.environment_net.parameters(), 'lr': 0.001, 'weight_decay': 1e-5}]\n",
    "\n",
    "# Adam optimizer\n",
    "optimizer = torch.optim.Adam(params)\n",
    "\n",
    "# L-BFGS optimizer\n",
    "# optimizer = torch.optim.LBFGS(model.parameters(), lr=0.01, max_iter=20, max_eval=25, history_size=100, line_search_fn='strong_wolfe')\n",
    "\n",
    "#edge_weight = random_walk_matrix(G)\n",
    "edge_weight = (None,None)\n",
    "\n",
    "print(\"Optimizer:\", optimizer)\n",
    "print(\"Data Device:\", X.device)"
   ]
  },
  {
   "cell_type": "markdown",
   "metadata": {},
   "source": [
    "## Hypergraph conv"
   ]
  },
  {
   "cell_type": "code",
   "execution_count": 10,
   "metadata": {},
   "outputs": [
    {
     "name": "stdout",
     "output_type": "stream",
     "text": [
      "Model: HGNN(\n",
      "  (layers): ModuleList(\n",
      "    (0): HGNNConv(\n",
      "      (act): ReLU(inplace=True)\n",
      "      (drop): Dropout(p=0.1, inplace=False)\n",
      "      (theta): Linear(in_features=1433, out_features=16, bias=True)\n",
      "    )\n",
      "    (1): HGNNConv(\n",
      "      (act): ReLU(inplace=True)\n",
      "      (drop): Dropout(p=0.5, inplace=False)\n",
      "      (theta): Linear(in_features=16, out_features=7, bias=True)\n",
      "    )\n",
      "  )\n",
      ")\n",
      "Optimizer: Adam (\n",
      "Parameter Group 0\n",
      "    amsgrad: False\n",
      "    betas: (0.9, 0.999)\n",
      "    capturable: False\n",
      "    differentiable: False\n",
      "    eps: 1e-08\n",
      "    foreach: None\n",
      "    fused: None\n",
      "    lr: 0.001\n",
      "    maximize: False\n",
      "    weight_decay: 0\n",
      ")\n",
      "Model Device: cuda:0\n",
      "Data Device: cuda:0\n"
     ]
    }
   ],
   "source": [
    "from dhg.models import HGNN\n",
    "\n",
    "model = HGNN(num_node_features, 16, num_classes, False, drop_rate=0.1)\n",
    "optimizer = torch.optim.Adam(model.parameters(), lr=0.001)\n",
    "\n",
    "model.to(device)\n",
    "\n",
    "print(\"Model:\", model)\n",
    "print(\"Optimizer:\", optimizer)\n",
    "print(\"Model Device:\", next(model.parameters()).device)\n",
    "print(\"Data Device:\", X.device)"
   ]
  },
  {
   "cell_type": "markdown",
   "metadata": {},
   "source": [
    "## HyperGCN"
   ]
  },
  {
   "cell_type": "code",
   "execution_count": 62,
   "metadata": {},
   "outputs": [
    {
     "name": "stdout",
     "output_type": "stream",
     "text": [
      "Model: HyperGCN(\n",
      "  (layers): ModuleList(\n",
      "    (0): HyperGCNConv(\n",
      "      (act): ReLU(inplace=True)\n",
      "      (drop): Dropout(p=0.5, inplace=False)\n",
      "      (theta): Linear(in_features=1433, out_features=64, bias=True)\n",
      "    )\n",
      "    (1): HyperGCNConv(\n",
      "      (act): ReLU(inplace=True)\n",
      "      (drop): Dropout(p=0.5, inplace=False)\n",
      "      (theta): Linear(in_features=64, out_features=7, bias=True)\n",
      "    )\n",
      "  )\n",
      ")\n",
      "Optimizer: Adam (\n",
      "Parameter Group 0\n",
      "    amsgrad: False\n",
      "    betas: (0.9, 0.999)\n",
      "    capturable: False\n",
      "    differentiable: False\n",
      "    eps: 1e-08\n",
      "    foreach: None\n",
      "    fused: None\n",
      "    lr: 0.01\n",
      "    maximize: False\n",
      "    weight_decay: 0.0005\n",
      ")\n",
      "Model Device: cuda:0\n",
      "Data Device: cuda:0\n"
     ]
    }
   ],
   "source": [
    "from dhg.models import HyperGCN\n",
    "from utils import random_walk_matrix\n",
    "\n",
    "v2e_weight, e2v_weight = random_walk_matrix(G)\n",
    "\n",
    "model = HyperGCN(num_node_features, 64, num_classes, False, drop_rate=0.5)\n",
    "optimizer = torch.optim.Adam(model.parameters(), lr=0.01, weight_decay=5e-4)\n",
    "\n",
    "model.to(device)\n",
    "\n",
    "print(\"Model:\", model)\n",
    "print(\"Optimizer:\", optimizer)\n",
    "print(\"Model Device:\", next(model.parameters()).device)\n",
    "print(\"Data Device:\", X.device)"
   ]
  },
  {
   "cell_type": "markdown",
   "metadata": {},
   "source": [
    "# Training"
   ]
  },
  {
   "cell_type": "code",
   "execution_count": 19,
   "metadata": {},
   "outputs": [
    {
     "name": "stdout",
     "output_type": "stream",
     "text": [
      "Epoch 1, Loss: 1.9449\n",
      "Training Accuracy: 0.2980, Validation Accuracy: 0.3044\n",
      "Epoch 51, Loss: 1.5527\n",
      "Training Accuracy: 0.6130, Validation Accuracy: 0.4379\n",
      "Epoch 101, Loss: 1.3009\n",
      "Training Accuracy: 0.8700, Validation Accuracy: 0.5626\n",
      "Epoch 151, Loss: 1.2429\n",
      "Training Accuracy: 0.9210, Validation Accuracy: 0.6054\n",
      "Epoch 201, Loss: 1.2352\n",
      "Training Accuracy: 0.9280, Validation Accuracy: 0.6259\n",
      "Epoch 251, Loss: 1.1792\n",
      "Training Accuracy: 0.9870, Validation Accuracy: 0.6575\n",
      "Epoch 301, Loss: 1.1794\n",
      "Training Accuracy: 0.9870, Validation Accuracy: 0.6751\n",
      "Epoch 351, Loss: 1.1792\n",
      "Training Accuracy: 0.9870, Validation Accuracy: 0.6827\n",
      "Epoch 401, Loss: 1.1780\n",
      "Training Accuracy: 0.9880, Validation Accuracy: 0.6862\n",
      "Epoch 451, Loss: 1.1779\n",
      "Training Accuracy: 0.9880, Validation Accuracy: 0.6897\n",
      "Epoch 501, Loss: 1.1770\n",
      "Training Accuracy: 0.9890, Validation Accuracy: 0.6973\n",
      "Epoch 551, Loss: 1.1759\n",
      "Training Accuracy: 0.9900, Validation Accuracy: 0.7026\n",
      "Epoch 601, Loss: 1.1758\n",
      "Training Accuracy: 0.9900, Validation Accuracy: 0.7055\n",
      "Epoch 651, Loss: 1.6928\n",
      "Training Accuracy: 0.4730, Validation Accuracy: 0.4052\n",
      "Early stopping\n"
     ]
    },
    {
     "data": {
      "text/plain": [
       "<All keys matched successfully>"
      ]
     },
     "execution_count": 19,
     "metadata": {},
     "output_type": "execute_result"
    }
   ],
   "source": [
    "from utils import train, validate\n",
    "\n",
    "# Run the training\n",
    "early_stopper = EarlyStopping(patience=50, mode='max', delta=-0.01)\n",
    "for epoch in range(1000):\n",
    "    loss = train(model, optimizer, X, G, labels, train_mask)\n",
    "\n",
    "    _, val_accuracy = validate(model, X, G, labels, train_mask, val_mask)\n",
    "    if early_stopper(model, val_accuracy):\n",
    "        print(\"Early stopping\")\n",
    "        break\n",
    "\n",
    "    if epoch % 50 == 0:\n",
    "        train_accuracy, val_accuracy = validate(model, X, G, labels, train_mask, val_mask)\n",
    "        print(f'Epoch {epoch+1}, Loss: {loss:.4f}')\n",
    "        print(f'Training Accuracy: {train_accuracy:.4f}, Validation Accuracy: {val_accuracy:.4f}')\n",
    "\n",
    "model.load_state_dict(early_stopper.best_model)"
   ]
  },
  {
   "cell_type": "code",
   "execution_count": 21,
   "metadata": {},
   "outputs": [
    {
     "name": "stdout",
     "output_type": "stream",
     "text": [
      "Ratio of actions in layer 0: [1. 0. 0. 0.] (S, L, B, I)\n",
      "Test Accuracy: 0.4075, Training Accuracy: 0.4770, Validation Accuracy: 0.4075\n"
     ]
    },
    {
     "data": {
      "image/png": "[encoded data removed]",
      "text/plain": [
       "<Figure size 2000x1000 with 3 Axes>"
      ]
     },
     "metadata": {},
     "output_type": "display_data"
    }
   ],
   "source": [
    "from utils import test, visualize_results\n",
    "\n",
    "# Test the model\n",
    "train_accuracy, val_accuracy = validate(model, X, G, labels, train_mask, val_mask)\n",
    "accuracy, predictions = test(model, X, G, labels, test_mask)\n",
    "print(f'Test Accuracy: {accuracy:.4f}, Training Accuracy: {train_accuracy:.4f}, Validation Accuracy: {val_accuracy:.4f}')\n",
    "\n",
    "visualize_results(model, X, G, labels, test_mask)"
   ]
  },
  {
   "cell_type": "code",
   "execution_count": null,
   "metadata": {},
   "outputs": [],
   "source": []
  }
 ],
 "metadata": {
  "kernelspec": {
   "display_name": ".venv",
   "language": "python",
   "name": "python3"
  },
  "language_info": {
   "codemirror_mode": {
    "name": "ipython",
    "version": 3
   },
   "file_extension": ".py",
   "mimetype": "text/x-python",
   "name": "python",
   "nbconvert_exporter": "python",
   "pygments_lexer": "ipython3",
   "version": "3.10.11"
  }
 },
 "nbformat": 4,
 "nbformat_minor": 2
}
