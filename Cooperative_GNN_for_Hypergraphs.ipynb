{
 "cells": [
  {
   "cell_type": "code",
   "execution_count": 16,
   "metadata": {},
   "outputs": [],
   "source": [
    "import numpy as np\n",
    "import matplotlib.pyplot as plt\n",
    "from collections import defaultdict\n",
    "\n",
    "import torch\n",
    "import torch.nn as nn\n",
    "import torch.optim as optim\n",
    "import torch.nn.functional as F\n",
    "\n",
    "import networkx as nx\n",
    "\n",
    "import dhg\n",
    "from dhg import Graph\n",
    "from dhg import Hypergraph\n",
    "from dhg.data import BaseData\n",
    "from dhg.data import Cora\n",
    "from dhg.data import CoauthorshipCora\n",
    "from dhg.data import CocitationCora\n",
    "from dhg.data import YelpRestaurant\n",
    "from dhg.data import Yelp3k\n",
    "from dhg.data import IMDB4k\n",
    "from dhg.data import Cooking200\n",
    "from dhg.models import GCN\n",
    "from dhg.random import set_seed\n",
    "from dhg.metrics import GraphVertexClassificationEvaluator as Evaluator"
   ]
  },
  {
   "cell_type": "code",
   "execution_count": 2,
   "metadata": {},
   "outputs": [
    {
     "name": "stdout",
     "output_type": "stream",
     "text": [
      "cuda\n"
     ]
    }
   ],
   "source": [
    "device = torch.device('cuda' if torch.cuda.is_available() else 'cpu')\n",
    "print(device)"
   ]
  },
  {
   "cell_type": "markdown",
   "metadata": {},
   "source": [
    "# Data"
   ]
  },
  {
   "cell_type": "markdown",
   "metadata": {},
   "source": [
    "## Coauthorship Cora"
   ]
  },
  {
   "cell_type": "code",
   "execution_count": 3,
   "metadata": {},
   "outputs": [],
   "source": [
    "dataset = CoauthorshipCora()\n",
    "set_seed(42)\n",
    "X = dataset['features'].to(device)\n",
    "labels = dataset['labels'].to(device)\n",
    "G = Hypergraph(dataset['num_vertices'], dataset['edge_list']).to(device)"
   ]
  },
  {
   "cell_type": "code",
   "execution_count": 5,
   "metadata": {},
   "outputs": [
    {
     "name": "stdout",
     "output_type": "stream",
     "text": [
      "Data object: This is coauthorship_cora dataset:\n",
      "  ->  num_classes\n",
      "  ->  num_vertices\n",
      "  ->  num_edges\n",
      "  ->  dim_features\n",
      "  ->  features\n",
      "  ->  edge_list\n",
      "  ->  labels\n",
      "  ->  train_mask\n",
      "  ->  val_mask\n",
      "  ->  test_mask\n",
      "Please try `data['name']` to get the specified data.\n",
      "Number of classes: 7\n",
      "Number of nodes: 2708\n",
      "Number of node features: 1433\n",
      "Number of edges: 1072\n",
      "Node features: torch.Size([2708, 1433])\n",
      "Labels: torch.Size([2708])\n",
      "Training nodes: 140\n",
      "Validation nodes: 2568\n",
      "Test nodes: 2568\n"
     ]
    }
   ],
   "source": [
    "# Print the data object\n",
    "print(\"Data object:\", dataset)\n",
    "\n",
    "# Print the number of classes\n",
    "num_classes = dataset['num_classes']\n",
    "print(\"Number of classes:\", num_classes)\n",
    "\n",
    "# Print the number of nodes\n",
    "num_nodes = dataset['num_vertices']\n",
    "print(\"Number of nodes:\", num_nodes)\n",
    "\n",
    "# Print the number of node features\n",
    "num_node_features = dataset['dim_features']\n",
    "print(\"Number of node features:\", num_node_features)\n",
    "\n",
    "# Print the edge index\n",
    "#print(\"Edge index:\", dataset['edge_list'])\n",
    "\n",
    "# Print number of edges\n",
    "num_edges = dataset['num_edges']\n",
    "print(\"Number of edges:\", num_edges)\n",
    "\n",
    "# Print the node features\n",
    "print(\"Node features:\", dataset['features'].shape)\n",
    "\n",
    "# Print the labels\n",
    "print(\"Labels:\", dataset['labels'].shape)\n",
    "\n",
    "# Print the train, validation, and test masks\n",
    "train_mask = dataset['train_mask'].to(device)\n",
    "val_mask = dataset['val_mask'].to(device)\n",
    "test_mask = dataset['test_mask'].to(device)\n",
    "print(\"Training nodes:\", train_mask.sum().item())\n",
    "print(\"Validation nodes:\", val_mask.sum().item())\n",
    "print(\"Test nodes:\", test_mask.sum().item())"
   ]
  },
  {
   "cell_type": "markdown",
   "metadata": {},
   "source": [
    "## Cocitation Cora"
   ]
  },
  {
   "cell_type": "code",
   "execution_count": 6,
   "metadata": {},
   "outputs": [],
   "source": [
    "dataset = CocitationCora()\n",
    "set_seed(42)\n",
    "X = dataset['features'].to(device)\n",
    "labels = dataset['labels'].to(device)\n",
    "G = Hypergraph(dataset['num_vertices'], dataset['edge_list']).to(device)"
   ]
  },
  {
   "cell_type": "code",
   "execution_count": 7,
   "metadata": {},
   "outputs": [
    {
     "name": "stdout",
     "output_type": "stream",
     "text": [
      "Data object: This is cocitation_cora dataset:\n",
      "  ->  num_classes\n",
      "  ->  num_vertices\n",
      "  ->  num_edges\n",
      "  ->  dim_features\n",
      "  ->  features\n",
      "  ->  edge_list\n",
      "  ->  labels\n",
      "  ->  train_mask\n",
      "  ->  val_mask\n",
      "  ->  test_mask\n",
      "Please try `data['name']` to get the specified data.\n",
      "Number of classes: 7\n",
      "Number of nodes: 2708\n",
      "Number of node features: 1433\n",
      "Number of edges: 1579\n",
      "Node features: torch.Size([2708, 1433])\n",
      "Labels: torch.Size([2708])\n",
      "Train mask: tensor([False, False, False,  ..., False, False, False], device='cuda:0')\n",
      "Validation mask: tensor([True, True, True,  ..., True, True, True], device='cuda:0')\n",
      "Test mask: tensor([True, True, True,  ..., True, True, True], device='cuda:0')\n"
     ]
    }
   ],
   "source": [
    "# Print the data object\n",
    "print(\"Data object:\", dataset)\n",
    "\n",
    "# Print the number of classes\n",
    "num_classes = dataset['num_classes']\n",
    "print(\"Number of classes:\", num_classes)\n",
    "\n",
    "# Print the number of nodes\n",
    "num_nodes = dataset['num_vertices']\n",
    "print(\"Number of nodes:\", num_nodes)\n",
    "\n",
    "# Print the number of node features\n",
    "num_node_features = dataset['dim_features']\n",
    "print(\"Number of node features:\", num_node_features)\n",
    "\n",
    "# Print number of edges\n",
    "num_edges = dataset['num_edges']\n",
    "print(\"Number of edges:\", num_edges)\n",
    "\n",
    "# Print the node features\n",
    "print(\"Node features:\", dataset['features'].shape)\n",
    "\n",
    "# Print the labels\n",
    "print(\"Labels:\", dataset['labels'].shape)\n",
    "\n",
    "# Print the train, validation, and test masks\n",
    "train_mask = dataset['train_mask'].to(device)\n",
    "val_mask = dataset['val_mask'].to(device)\n",
    "test_mask = dataset['test_mask'].to(device)\n",
    "print(\"Train mask:\", train_mask)\n",
    "print(\"Validation mask:\", val_mask)\n",
    "print(\"Test mask:\", test_mask)"
   ]
  },
  {
   "cell_type": "markdown",
   "metadata": {},
   "source": [
    "## Manual Co-citation cora"
   ]
  },
  {
   "cell_type": "code",
   "execution_count": 38,
   "metadata": {},
   "outputs": [],
   "source": [
    "dataset = Cora()\n",
    "# Initialize hyperedges as a dictionary where each key is an article (node)\n",
    "citing = dict()\n",
    "cited = dict()\n",
    "\n",
    "# Create hyperedges based on citation relationships\n",
    "for source, target in dataset['edge_list']:\n",
    "    citing[source] = citing.get(source, set()).union({target})\n",
    "    cited[target] = cited.get(target, set()).union({source})\n",
    "\n",
    "# Create a list of hyperedges\n",
    "hyperedges = []\n",
    "for source, targets in citing.items():\n",
    "    hyperedges.append(tuple(targets))\n",
    "\n",
    "for target, sources in cited.items():\n",
    "    hyperedges.append(tuple(sources))\n",
    "\n",
    "for e in hyperedges:\n",
    "    if len(e) == 1:\n",
    "        hyperedges.remove(e)\n",
    "\n",
    "X = dataset['features'].to(device)\n",
    "labels = dataset['labels'].to(device)\n",
    "G = Hypergraph(dataset['num_vertices'], hyperedges).to(device)"
   ]
  },
  {
   "cell_type": "code",
   "execution_count": 39,
   "metadata": {},
   "outputs": [],
   "source": [
    "# class MyCocitationCora(BaseData):\n",
    "#     def __init__(self, data_root: Optional[str] = None) -> None:\n",
    "#         super().__init__('MyCocitationCora', data_root)\n",
    "#         self._content = {\n",
    "#             \"num_classes\": 7,\n",
    "#             \"num_vertices\": 2708,\n",
    "#             \"num_edges\": 4664,\n",
    "#             \"dim_features\": 1433,\n",
    "#             'features': {\n",
    "#                 'upon': [{ 'filename': 'features.pkl', 'md5': '05b45e9c38cc95f4fc44b3668cc9ddc9' }],\n",
    "#                 'loader': load_from_pickle,\n",
    "#                 'preprocess': [to_tensor, partial(norm_ft, ord=1)],\n",
    "#             },\n",
    "#             'edge_list': {\n",
    "#                 'upon': [{ 'filename': 'edge_list.pkl', 'md5': 'f488389c1edd0d898ce273fbd27822b3' }],\n",
    "#                 'loader': load_from_pickle,\n",
    "#             },\n",
    "#             'labels': {\n",
    "#                 'upon': [{ 'filename': 'labels.pkl', 'md5': 'e506014762052c6a36cb583c28bdae1d' }],\n",
    "#                 'loader': load_from_pickle,\n",
    "#                 'preprocess': [to_long_tensor],\n",
    "#             },\n",
    "#             'train_mask': {\n",
    "#                 'upon': [{ 'filename': 'train_mask.pkl', 'md5': 'a11357a40e1f0b5cce728d1a961b8e13' }],\n",
    "#                 'loader': load_from_pickle,\n",
    "#                 'preprocess': [to_bool_tensor],\n",
    "#             },\n",
    "#             'val_mask': {\n",
    "#                 'upon': [{ 'filename': 'val_mask.pkl', 'md5': '355544da566452601bcfa74d30539a71' }],\n",
    "#                 'loader': load_from_pickle,\n",
    "#                 'preprocess': [to_bool_tensor],\n",
    "#             },\n",
    "#             'test_mask': {\n",
    "#                 'upon': [{ 'filename': 'test_mask.pkl', 'md5': 'bbfc87d661560f55f6946f8cb9d602b9' }],\n",
    "#                 'loader': load_from_pickle,\n",
    "#                 'preprocess': [to_bool_tensor],\n",
    "#             },\n",
    "#         }"
   ]
  },
  {
   "cell_type": "code",
   "execution_count": 40,
   "metadata": {},
   "outputs": [
    {
     "name": "stdout",
     "output_type": "stream",
     "text": [
      "Number of classes: 7\n",
      "Number of nodes: 2708\n",
      "Number of node features: 1433\n",
      "Number of edges: 4664\n",
      "Node features: torch.Size([2708, 1433])\n",
      "Labels: torch.Size([2708])\n",
      "Train mask: tensor([ True,  True,  True,  ..., False, False, False], device='cuda:0')\n",
      "Validation mask: tensor([False, False, False,  ..., False, False, False], device='cuda:0')\n",
      "Test mask: tensor([False, False, False,  ...,  True,  True,  True], device='cuda:0')\n"
     ]
    }
   ],
   "source": [
    "# Print the number of classes\n",
    "num_classes = dataset['num_classes']\n",
    "print(\"Number of classes:\", num_classes)\n",
    "\n",
    "# Print the number of nodes\n",
    "num_nodes = dataset['num_vertices']\n",
    "print(\"Number of nodes:\", num_nodes)\n",
    "\n",
    "# Print the number of node features\n",
    "num_node_features = dataset['dim_features']\n",
    "print(\"Number of node features:\", num_node_features)\n",
    "\n",
    "# Print number of edges\n",
    "num_edges = len(hyperedges)\n",
    "print(\"Number of edges:\", num_edges)\n",
    "\n",
    "# Print the node features\n",
    "print(\"Node features:\", dataset['features'].shape)\n",
    "\n",
    "# Print the labels\n",
    "print(\"Labels:\", dataset['labels'].shape)\n",
    "\n",
    "# Print the train, validation, and test masks\n",
    "train_mask = dataset['train_mask'].to(device)\n",
    "val_mask = dataset['val_mask'].to(device)\n",
    "test_mask = dataset['test_mask'].to(device)\n",
    "print(\"Train mask:\", train_mask)\n",
    "print(\"Validation mask:\", val_mask)\n",
    "print(\"Test mask:\", test_mask)"
   ]
  },
  {
   "cell_type": "markdown",
   "metadata": {},
   "source": [
    "## Yelp Restaurant"
   ]
  },
  {
   "cell_type": "code",
   "execution_count": 7,
   "metadata": {},
   "outputs": [],
   "source": [
    "dataset = Yelp3k()\n",
    "set_seed(42)\n",
    "X = dataset['features'].to(device)\n",
    "labels = dataset['labels'].to(device)\n",
    "G = Hypergraph(dataset['num_vertices'], dataset['edge_list']).to(device)"
   ]
  },
  {
   "cell_type": "code",
   "execution_count": 8,
   "metadata": {},
   "outputs": [
    {
     "name": "stdout",
     "output_type": "stream",
     "text": [
      "Number of classes: 6\n",
      "Number of nodes: 3855\n",
      "Number of node features: 1862\n",
      "Train mask: tensor([ True,  True,  True,  ..., False, False, False], device='cuda:0')\n",
      "Validation mask: tensor([False, False, False,  ..., False, False, False], device='cuda:0')\n",
      "Test mask: tensor([False, False, False,  ...,  True,  True,  True], device='cuda:0')\n"
     ]
    }
   ],
   "source": [
    "# Print the data object\n",
    "#print(\"Data object:\", dataset)\n",
    "\n",
    "# Print the number of classes\n",
    "num_classes = dataset['num_classes']\n",
    "print(\"Number of classes:\", num_classes)\n",
    "\n",
    "# Print the number of nodes\n",
    "num_nodes = dataset['num_vertices']\n",
    "print(\"Number of nodes:\", num_nodes)\n",
    "\n",
    "# Print the number of node features\n",
    "num_node_features = dataset['dim_features']\n",
    "print(\"Number of node features:\", num_node_features)\n",
    "\n",
    "# Print the edge index\n",
    "#print(\"Edge index:\", dataset['edge_list'])\n",
    "\n",
    "# Print the node features\n",
    "#print(\"Node features:\", dataset['features'])\n",
    "\n",
    "# Print the labels\n",
    "#print(\"Labels:\", dataset['labels'])\n",
    "\n",
    "train_mask = torch.zeros(num_nodes, dtype=torch.bool).to(device)\n",
    "train_mask[:num_nodes // 2] = 1\n",
    "val_mask = torch.zeros(num_nodes, dtype=torch.bool).to(device)\n",
    "val_mask[num_nodes // 2: 3 * num_nodes // 4] = 1\n",
    "test_mask = torch.zeros(num_nodes, dtype=torch.bool).to(device)\n",
    "test_mask[3 * num_nodes // 4:] = 1\n",
    "\n",
    "\n",
    "# Print the train, validation, and test masks\n",
    "# train_mask = dataset['train_mask'].to(device)\n",
    "# val_mask = dataset['val_mask'].to(device)\n",
    "# test_mask = dataset['test_mask'].to(device)\n",
    "print(\"Train mask:\", train_mask)\n",
    "print(\"Validation mask:\", val_mask)\n",
    "print(\"Test mask:\", test_mask)"
   ]
  },
  {
   "cell_type": "markdown",
   "metadata": {},
   "source": [
    "## IMDB"
   ]
  },
  {
   "cell_type": "code",
   "execution_count": 14,
   "metadata": {},
   "outputs": [],
   "source": [
    "dataset = IMDB4k()\n",
    "set_seed(42)\n",
    "X = dataset['features'].to(device)\n",
    "labels = dataset['labels'].to(device)\n",
    "G = Hypergraph(dataset['num_vertices'], dataset['edge_by_director']).to(device)"
   ]
  },
  {
   "cell_type": "code",
   "execution_count": 15,
   "metadata": {},
   "outputs": [
    {
     "name": "stdout",
     "output_type": "stream",
     "text": [
      "Number of classes: 3\n",
      "Number of nodes: 4278\n",
      "Number of node features: 3066\n",
      "Training nodes: 2139\n",
      "Validation nodes: 1069\n",
      "Test nodes: 1070\n"
     ]
    }
   ],
   "source": [
    "# Print the data object\n",
    "#print(\"Data object:\", dataset)\n",
    "\n",
    "# Print the number of classes\n",
    "num_classes = dataset['num_classes']\n",
    "print(\"Number of classes:\", num_classes)\n",
    "\n",
    "# Print the number of nodes\n",
    "num_nodes = dataset['num_vertices']\n",
    "print(\"Number of nodes:\", num_nodes)\n",
    "\n",
    "# Print the number of node features\n",
    "num_node_features = dataset['dim_features']\n",
    "print(\"Number of node features:\", num_node_features)\n",
    "\n",
    "# Print the edge index\n",
    "#print(\"Edge index:\", dataset['edge_list'])\n",
    "\n",
    "# Print the node features\n",
    "#print(\"Node features:\", dataset['features'])\n",
    "\n",
    "# Print the labels\n",
    "#print(\"Labels:\", dataset['labels'])\n",
    "\n",
    "train_mask = torch.zeros(num_nodes, dtype=torch.bool).to(device)\n",
    "train_mask[:num_nodes // 2] = 1\n",
    "val_mask = torch.zeros(num_nodes, dtype=torch.bool).to(device)\n",
    "val_mask[num_nodes // 2: 3 * num_nodes // 4] = 1\n",
    "test_mask = torch.zeros(num_nodes, dtype=torch.bool).to(device)\n",
    "test_mask[3 * num_nodes // 4:] = 1\n",
    "\n",
    "\n",
    "# Print the train, validation, and test masks\n",
    "# train_mask = dataset['train_mask'].to(device)\n",
    "# val_mask = dataset['val_mask'].to(device)\n",
    "# test_mask = dataset['test_mask'].to(device)\n",
    "print(\"Training nodes:\", train_mask.sum().item())\n",
    "print(\"Validation nodes:\", val_mask.sum().item())\n",
    "print(\"Test nodes:\", test_mask.sum().item())"
   ]
  },
  {
   "cell_type": "markdown",
   "metadata": {},
   "source": [
    "## Cooking 200"
   ]
  },
  {
   "cell_type": "code",
   "execution_count": 5,
   "metadata": {},
   "outputs": [
    {
     "name": "stdout",
     "output_type": "stream",
     "text": [
      "This is cooking_200 dataset:\n",
      "  ->  num_classes\n",
      "  ->  num_vertices\n",
      "  ->  num_edges\n",
      "  ->  edge_list\n",
      "  ->  labels\n",
      "  ->  train_mask\n",
      "  ->  val_mask\n",
      "  ->  test_mask\n",
      "Please try `data['name']` to get the specified data.\n"
     ]
    }
   ],
   "source": [
    "dataset = Cooking200()\n",
    "set_seed(2021)\n",
    "print(dataset)\n",
    "X = torch.eye(dataset[\"num_vertices\"]).to(device)\n",
    "labels = dataset['labels'].to(device)\n",
    "G = Hypergraph(dataset['num_vertices'], dataset['edge_list']).to(device)"
   ]
  },
  {
   "cell_type": "code",
   "execution_count": 6,
   "metadata": {},
   "outputs": [
    {
     "name": "stdout",
     "output_type": "stream",
     "text": [
      "Number of classes: 20\n",
      "Number of nodes: 7403\n",
      "Number of node features: 7403\n",
      "Training nodes: 200\n",
      "Validation nodes: 200\n",
      "Test nodes: 7003\n"
     ]
    }
   ],
   "source": [
    "# Print the number of classes\n",
    "num_classes = dataset['num_classes']\n",
    "print(\"Number of classes:\", num_classes)\n",
    "\n",
    "# Print the number of nodes\n",
    "num_nodes = dataset['num_vertices']\n",
    "print(\"Number of nodes:\", num_nodes)\n",
    "\n",
    "# Print the number of node features\n",
    "num_node_features = X.shape[1]\n",
    "print(\"Number of node features:\", num_node_features)\n",
    "\n",
    "# Print the train, validation, and test masks\n",
    "train_mask = dataset['train_mask'].to(device)\n",
    "val_mask = dataset['val_mask'].to(device)\n",
    "test_mask = dataset['test_mask'].to(device)\n",
    "print(\"Training nodes:\", train_mask.sum().item())\n",
    "print(\"Validation nodes:\", val_mask.sum().item())\n",
    "print(\"Test nodes:\", test_mask.sum().item())"
   ]
  },
  {
   "cell_type": "markdown",
   "metadata": {},
   "source": [
    "# Models"
   ]
  },
  {
   "cell_type": "markdown",
   "metadata": {},
   "source": [
    "## HCoGNN"
   ]
  },
  {
   "cell_type": "code",
   "execution_count": 41,
   "metadata": {},
   "outputs": [
    {
     "name": "stdout",
     "output_type": "stream",
     "text": [
      "Model: HCoGNN_node_classifier(\n",
      "  (classifier): Linear(in_features=1433, out_features=7, bias=True)\n",
      "  (dropout): Dropout(p=0.7, inplace=False)\n",
      "  (action_net): action_network(\n",
      "    (lin_message): Linear(in_features=1433, out_features=4, bias=False)\n",
      "    (lin_update): Linear(in_features=1433, out_features=4, bias=True)\n",
      "    (dropout): Dropout(p=0.7, inplace=False)\n",
      "  )\n",
      "  (environment_net): environment_network(\n",
      "    (lin_message): Linear(in_features=1433, out_features=1433, bias=False)\n",
      "    (lin_update): Linear(in_features=1433, out_features=1433, bias=True)\n",
      "    (dropout): Dropout(p=0.7, inplace=False)\n",
      "  )\n",
      "  (activation): GELU(approximate='none')\n",
      ")\n",
      "Optimizer: Adam (\n",
      "Parameter Group 0\n",
      "    amsgrad: False\n",
      "    betas: (0.9, 0.999)\n",
      "    capturable: False\n",
      "    differentiable: False\n",
      "    eps: 1e-08\n",
      "    foreach: None\n",
      "    fused: None\n",
      "    lr: 0.0001\n",
      "    maximize: False\n",
      "    weight_decay: 0\n",
      ")\n",
      "Model Device: cuda:0\n",
      "Data Device: cuda:0\n"
     ]
    }
   ],
   "source": [
    "from models.HCoGNN import HCoGNN_node_classifier\n",
    "\n",
    "def random_walk_matrix(G):\n",
    "    deg = G.deg_v\n",
    "    v2e_weight = torch.ones_like(G.v2e_weight, dtype=torch.float32)\n",
    "    e2v_weight = torch.ones_like(G.e2v_weight, dtype=torch.float32)\n",
    "    for i, v in enumerate(G.v2e_src):\n",
    "        v2e_weight[i] = 1.0 / deg[v]\n",
    "    return v2e_weight, e2v_weight\n",
    "\n",
    "model = HCoGNN_node_classifier(num_node_features, num_classes, G, 'mean', 'mean', 2, dropout=0.7)\n",
    "optimizer = torch.optim.Adam(model.parameters(), lr=0.0001)\n",
    "\n",
    "#edge_weight = random_walk_matrix(G)\n",
    "edge_weight = (None,None)\n",
    "model.to(device)\n",
    "\n",
    "print(\"Model:\", model)\n",
    "print(\"Optimizer:\", optimizer)\n",
    "print(\"Model Device:\", next(model.parameters()).device)\n",
    "print(\"Data Device:\", X.device)"
   ]
  },
  {
   "cell_type": "markdown",
   "metadata": {},
   "source": [
    "## Hypergraph conv"
   ]
  },
  {
   "cell_type": "code",
   "execution_count": 6,
   "metadata": {},
   "outputs": [
    {
     "name": "stdout",
     "output_type": "stream",
     "text": [
      "Model: HGNN(\n",
      "  (layers): ModuleList(\n",
      "    (0): HGNNConv(\n",
      "      (act): ReLU(inplace=True)\n",
      "      (drop): Dropout(p=0.1, inplace=False)\n",
      "      (theta): Linear(in_features=1433, out_features=16, bias=True)\n",
      "    )\n",
      "    (1): HGNNConv(\n",
      "      (act): ReLU(inplace=True)\n",
      "      (drop): Dropout(p=0.5, inplace=False)\n",
      "      (theta): Linear(in_features=16, out_features=7, bias=True)\n",
      "    )\n",
      "  )\n",
      ")\n",
      "Optimizer: Adam (\n",
      "Parameter Group 0\n",
      "    amsgrad: False\n",
      "    betas: (0.9, 0.999)\n",
      "    capturable: False\n",
      "    differentiable: False\n",
      "    eps: 1e-08\n",
      "    foreach: None\n",
      "    fused: None\n",
      "    lr: 0.001\n",
      "    maximize: False\n",
      "    weight_decay: 0\n",
      ")\n",
      "Model Device: cuda:0\n",
      "Data Device: cuda:0\n"
     ]
    }
   ],
   "source": [
    "from dhg.models import HGNN\n",
    "\n",
    "model = HGNN(num_node_features, 16, num_classes, False, drop_rate=0.1)\n",
    "optimizer = torch.optim.Adam(model.parameters(), lr=0.001)\n",
    "\n",
    "model.to(device)\n",
    "\n",
    "print(\"Model:\", model)\n",
    "print(\"Optimizer:\", optimizer)\n",
    "print(\"Model Device:\", next(model.parameters()).device)\n",
    "print(\"Data Device:\", X.device)"
   ]
  },
  {
   "cell_type": "markdown",
   "metadata": {},
   "source": [
    "# Training"
   ]
  },
  {
   "cell_type": "code",
   "execution_count": 42,
   "metadata": {},
   "outputs": [],
   "source": [
    "# Training loop\n",
    "def train():\n",
    "    model.train()\n",
    "    optimizer.zero_grad()\n",
    "    out = model(X, edge_weight)\n",
    "    #out = model(X, G)\n",
    "    #loss = F.nll_loss(out[train_mask], labels[train_mask])\n",
    "    loss = F.cross_entropy(out[train_mask], labels[train_mask])\n",
    "    loss.backward()\n",
    "    optimizer.step()\n",
    "    return loss.item()\n",
    "\n",
    "def validate():\n",
    "    model.eval()\n",
    "    with torch.no_grad():\n",
    "        logits = model(X) # Log probabilities\n",
    "        #logits = model(X, G) # Log probabilities\n",
    "\n",
    "        # Train accuracy\n",
    "        train_logits = logits[train_mask] # Log probabilities of train nodes\n",
    "        train_labels = labels[train_mask] # True labels of train nodes\n",
    "        train_pred = train_logits.max(1)[1] # Predicted labels\n",
    "        train_correct = train_pred.eq(train_labels).sum().item() # Number of correctly classified nodes\n",
    "        train_accuracy = train_correct / train_mask.sum().item() # Accuracy\n",
    "\n",
    "        # Validation accuracy\n",
    "        val_logits = logits[val_mask] # Log probabilities of validation nodes\n",
    "        val_labels = labels[val_mask] # True labels of validation nodes\n",
    "        val_pred = val_logits.max(1)[1] # Predicted labels\n",
    "        val_correct = val_pred.eq(val_labels).sum().item() # Number of correctly classified nodes\n",
    "        val_accuracy = val_correct / val_mask.sum().item() # Accuracy\n",
    "            \n",
    "    return train_accuracy, val_accuracy\n",
    "\n",
    "# Testing function\n",
    "def test():\n",
    "    model.eval()\n",
    "    with torch.no_grad():\n",
    "        logits = model(X) # Log probabilities\n",
    "        #logits = model(X, G)\n",
    "        test_logits = logits[test_mask] # Log probabilities of test nodes\n",
    "        test_labels = labels[test_mask] # True labels of test nodes\n",
    "        pred = test_logits.max(1)[1] # Predicted labels\n",
    "        correct = pred.eq(test_labels).sum().item() # Number of correctly classified nodes\n",
    "        accuracy = correct / test_mask.sum().item() # Accuracy\n",
    "\n",
    "        for layer in range(model.num_iterations):\n",
    "            actions = model.action_history[layer].cpu()\n",
    "\n",
    "            # Convert list to numpy array\n",
    "            actions_array = np.array(actions)\n",
    "\n",
    "            # Compute the ratio\n",
    "            ratio = np.bincount(actions_array) / len(actions_array)\n",
    "\n",
    "            print(f\"Ratio of actions in layer {layer}: {ratio}\")\n",
    "                        \n",
    "    return accuracy, pred\n",
    "\n",
    "from sklearn.metrics import confusion_matrix\n",
    "\n",
    "def visualize_results():\n",
    "    model.eval()\n",
    "    with torch.no_grad():\n",
    "        logits = model(X) # Log probabilities\n",
    "        #logits = model(X, G)\n",
    "        test_logits = logits[test_mask] # Log probabilities of test nodes\n",
    "        test_labels = labels[test_mask] # True labels of test nodes\n",
    "        pred = test_logits.max(1)[1] # Predicted labels\n",
    "\n",
    "        cm = confusion_matrix(test_labels.cpu(), pred.cpu())\n",
    "\n",
    "        # Normalize confusion matrix\n",
    "        cm = cm.astype('float') / cm.sum(axis=1)[:, np.newaxis]\n",
    "\n",
    "        fig, ax = plt.subplots(1, 2, figsize=(20,10))\n",
    "\n",
    "        # Plot confusion matrix\n",
    "        im = ax[0].matshow(cm, cmap=plt.cm.Blues)\n",
    "        plt.colorbar(im, ax=ax[0])\n",
    "        ax[0].set_title('Confusion matrix')\n",
    "        ax[0].set_ylabel('True label')\n",
    "        ax[0].set_xlabel('Predicted label')\n",
    "\n",
    "        plt.show()"
   ]
  },
  {
   "cell_type": "code",
   "execution_count": 43,
   "metadata": {},
   "outputs": [
    {
     "name": "stdout",
     "output_type": "stream",
     "text": [
      "Epoch 1, Loss: 1.9459\n",
      "Training Accuracy: 0.1500, Validation Accuracy: 0.0700\n",
      "Epoch 101, Loss: 1.8634\n",
      "Training Accuracy: 0.4000, Validation Accuracy: 0.1780\n",
      "Epoch 201, Loss: 1.3149\n",
      "Training Accuracy: 1.0000, Validation Accuracy: 0.6660\n",
      "Epoch 301, Loss: 1.1705\n",
      "Training Accuracy: 1.0000, Validation Accuracy: 0.7280\n",
      "Epoch 401, Loss: 1.1672\n",
      "Training Accuracy: 1.0000, Validation Accuracy: 0.7380\n",
      "Epoch 501, Loss: 1.1665\n",
      "Training Accuracy: 1.0000, Validation Accuracy: 0.7420\n",
      "Epoch 601, Loss: 1.1659\n",
      "Training Accuracy: 1.0000, Validation Accuracy: 0.7420\n",
      "Epoch 701, Loss: 1.1660\n",
      "Training Accuracy: 1.0000, Validation Accuracy: 0.7360\n",
      "Epoch 801, Loss: 1.1656\n",
      "Training Accuracy: 1.0000, Validation Accuracy: 0.7480\n",
      "Epoch 901, Loss: 1.1657\n",
      "Training Accuracy: 1.0000, Validation Accuracy: 0.7420\n"
     ]
    }
   ],
   "source": [
    "# Run the training\n",
    "for epoch in range(1000):\n",
    "    loss = train()\n",
    "\n",
    "    if epoch % 100 == 0:\n",
    "        train_accuracy, val_accuracy = validate()\n",
    "        print(f'Epoch {epoch+1}, Loss: {loss:.4f}')\n",
    "        print(f'Training Accuracy: {train_accuracy:.4f}, Validation Accuracy: {val_accuracy:.4f}')"
   ]
  },
  {
   "cell_type": "code",
   "execution_count": 44,
   "metadata": {},
   "outputs": [
    {
     "name": "stdout",
     "output_type": "stream",
     "text": [
      "Ratio of actions in layer 0: [1.]\n",
      "Ratio of actions in layer 1: [0.24889217 0.25036928 0.25923191 0.24150665]\n",
      "Test Accuracy: 0.7380, Training Accuracy: 1.0000, Validation Accuracy: 0.7420\n"
     ]
    },
    {
     "data": {
      "image/png": "[encoded data removed]",
      "text/plain": [
       "<Figure size 2000x1000 with 3 Axes>"
      ]
     },
     "metadata": {},
     "output_type": "display_data"
    }
   ],
   "source": [
    "# Test the model\n",
    "train_accuracy, val_accuracy = validate()\n",
    "accuracy, predictions = test()\n",
    "print(f'Test Accuracy: {accuracy:.4f}, Training Accuracy: {train_accuracy:.4f}, Validation Accuracy: {val_accuracy:.4f}')\n",
    "\n",
    "visualize_results()"
   ]
  },
  {
   "cell_type": "code",
   "execution_count": null,
   "metadata": {},
   "outputs": [],
   "source": []
  }
 ],
 "metadata": {
  "kernelspec": {
   "display_name": ".venv",
   "language": "python",
   "name": "python3"
  },
  "language_info": {
   "codemirror_mode": {
    "name": "ipython",
    "version": 3
   },
   "file_extension": ".py",
   "mimetype": "text/x-python",
   "name": "python",
   "nbconvert_exporter": "python",
   "pygments_lexer": "ipython3",
   "version": "3.10.11"
  }
 },
 "nbformat": 4,
 "nbformat_minor": 2
}
